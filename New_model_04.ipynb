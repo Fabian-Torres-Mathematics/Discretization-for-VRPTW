{
 "cells": [
  {
   "cell_type": "markdown",
   "id": "c224be45-e849-406e-adfc-b2c2ef7c77e5",
   "metadata": {},
   "source": [
    "# A New Class of Compact Formulations for Vehicle Routing Problems "
   ]
  },
  {
   "cell_type": "markdown",
   "id": "0260a7f1-9e0b-4013-8cb0-a4d3e3fab645",
   "metadata": {},
   "source": [
    "First step is to install the necassary packages"
   ]
  },
  {
   "cell_type": "code",
   "execution_count": 2,
   "id": "81322024-d1de-4490-a816-52f61d84cc66",
   "metadata": {},
   "outputs": [
    {
     "name": "stdout",
     "output_type": "stream",
     "text": [
      "Set parameter Username\n",
      "Set parameter LicenseID to value 2605064\n",
      "Academic license - for non-commercial use only - expires 2026-01-04\n"
     ]
    },
    {
     "data": {
      "text/plain": [
       "Gurobi.Env(Ptr{Nothing} @0x000000012d9c5600, false, 0)"
      ]
     },
     "execution_count": 2,
     "metadata": {},
     "output_type": "execute_result"
    }
   ],
   "source": [
    "using JuMP                # For mathematical modeling\n",
    "using GLPK                # For the free GLPK solver\n",
    "using Gurobi\n",
    "using MathOptInterface    # For solver compatibility and optimization interfaces\n",
    "MOI = MathOptInterface\n",
    "using Random\n",
    "const GRB_ENV = Gurobi.Env()\n"
   ]
  },
  {
   "cell_type": "markdown",
   "id": "4b21f98c-fb2d-4b7b-9966-d2d52f6fad88",
   "metadata": {},
   "source": [
    "# Instructions\n",
    "You should run all of the code from the start in the correct order. Structs that are basic are compiled first, and second the ones that are dependent on those are build. The only thing that needs to be changed is the file path of the solomon instances that are freely available online. "
   ]
  },
  {
   "cell_type": "markdown",
   "id": "c6d4ea6e-a5de-40d5-8839-b188cfe53336",
   "metadata": {},
   "source": [
    "## Create an instance\n",
    "- Create data structures for the VRPTW\n",
    "- Read Solomon instances\n",
    "- And create some basic functions"
   ]
  },
  {
   "cell_type": "code",
   "execution_count": 3,
   "id": "59bd2ce9-cb5d-4d24-8ed6-84f216a94683",
   "metadata": {},
   "outputs": [
    {
     "data": {
      "text/plain": [
       "\"r101\""
      ]
     },
     "execution_count": 3,
     "metadata": {},
     "output_type": "execute_result"
    }
   ],
   "source": [
    "number_of_customers = 50\n",
    "inst = \"r101\""
   ]
  },
  {
   "cell_type": "markdown",
   "id": "322d31cf-e388-424e-857f-f4ca3d9aced8",
   "metadata": {},
   "source": [
    "- Path is a stuct that stores the \"LA arcs\" as paths from a starting customer to the end customer. Every customer has a list of paths for its neighborhood. "
   ]
  },
  {
   "cell_type": "code",
   "execution_count": 4,
   "id": "31ca35bf-34aa-4c43-bcbe-ff323858250c",
   "metadata": {},
   "outputs": [],
   "source": [
    "mutable struct Path\n",
    "    id::Int\n",
    "    path::Vector{Int}\n",
    "    future::Vector{Int}\n",
    "    load::Float32\n",
    "    time::Float32\n",
    "end"
   ]
  },
  {
   "cell_type": "code",
   "execution_count": 5,
   "id": "54ad1943-e862-43ee-9a61-38b6ea6c9a22",
   "metadata": {},
   "outputs": [],
   "source": [
    "mutable struct Demand_node\n",
    "    id::Int                      \n",
    "    customer::Int\n",
    "    buck_inx::Int\n",
    "    min_load::Float32\n",
    "    max_load::Float32\n",
    "    forward::Vector{Int}\n",
    "    backward::Vector{Int}\n",
    "end"
   ]
  },
  {
   "cell_type": "code",
   "execution_count": 6,
   "id": "c91b481b-4623-4684-9173-199417a368d1",
   "metadata": {},
   "outputs": [],
   "source": [
    "mutable struct Time_node\n",
    "    id::Int                      \n",
    "    customer::Int\n",
    "    buck_inx::Int\n",
    "    min_time::Float32\n",
    "    max_time::Float32\n",
    "    forward::Vector{Int}\n",
    "    backward::Vector{Int}\n",
    "end"
   ]
  },
  {
   "cell_type": "code",
   "execution_count": 7,
   "id": "2ac6da21-60f3-4904-923c-b782b6807778",
   "metadata": {},
   "outputs": [],
   "source": [
    "mutable struct Solution\n",
    "    demand_nodes::Vector{Demand_node}\n",
    "    time_nodes::Vector{Time_node}\n",
    "    customers::Vector{Any}\n",
    "    paths::Vector{Path}\n",
    "end"
   ]
  },
  {
   "cell_type": "markdown",
   "id": "41c30e4a-5bc3-4ae1-805d-3d279387746c",
   "metadata": {},
   "source": [
    "- all_paths is a list of all paths for all customers. It is initiated below as empty. When a Path is created it inmediately gets added to the list of all paths with a unique id that equals the index of the list of all_paths for easy access. "
   ]
  },
  {
   "cell_type": "markdown",
   "id": "0f008d26-349c-4572-b004-d86387a21540",
   "metadata": {},
   "source": [
    "- Customer is a struct that stores information for every customer, id, coordinates, time windows, demand, service time, and buckets for resources, including the set of paths for its neigborhood. "
   ]
  },
  {
   "cell_type": "code",
   "execution_count": 8,
   "id": "8c1d737c-4299-42d3-8592-e0f7cb96d195",
   "metadata": {},
   "outputs": [],
   "source": [
    "mutable struct Customer\n",
    "    id::Int                      # Customer ID\n",
    "    x::Float32                   # X-coordinate\n",
    "    y::Float32                   # Y-coordinate\n",
    "    time_window::Tuple{Int, Int} # (start time, end time)\n",
    "    demand::Int                  # Demand at the customer location\n",
    "    service_time::Int            # Time spent at the customer location\n",
    "    LA::Vector{Int}                 # Set of customer IDs, initially empty\n",
    "    W_D::Vector{Float64} # bucket of thresholds\n",
    "    W_D_remove::Vector{Float64} # tempodary to remember what to remove from W_D\n",
    "    W_T::Vector{Float64} # bucket of time\n",
    "    W_T_remove::Vector{Float64}\n",
    "    B_D::Vector{Demand_node} # holds nodes in the demand Graph\n",
    "    B_T::Vector{Time_node}\n",
    "    paths::Vector{Path}\n",
    "    N::Vector{Int} # Dymanic set to contract\n",
    "    Not_N::Vector{Int}\n",
    "    k::Int\n",
    "end"
   ]
  },
  {
   "cell_type": "code",
   "execution_count": 9,
   "id": "093c9731-3ca5-4405-b5d8-f684a9056a8e",
   "metadata": {},
   "outputs": [],
   "source": [
    "\n",
    "# Define Depot struct (with service time)\n",
    "mutable struct Depot\n",
    "    id::Int\n",
    "    x::Float32\n",
    "    y::Float32\n",
    "    time_window::Tuple{Int, Int}\n",
    "    demand::Int\n",
    "    service_time::Int  # Time spent at the depot\n",
    "    B_D::Vector{Demand_node}\n",
    "    B_T::Vector{Time_node}\n",
    "end"
   ]
  },
  {
   "cell_type": "markdown",
   "id": "dddd7b21-a7fc-4476-a76e-16aa0ee150af",
   "metadata": {},
   "source": [
    "### Default initiation\n",
    "- ns is the size of the la neighbors, ds is the step in the demand bucket, and ts is the step in the time bucket."
   ]
  },
  {
   "cell_type": "code",
   "execution_count": 10,
   "id": "9d9216c2-72ed-413e-b020-c179b6657280",
   "metadata": {},
   "outputs": [
    {
     "data": {
      "text/plain": [
       "50"
      ]
     },
     "execution_count": 10,
     "metadata": {},
     "output_type": "execute_result"
    }
   ],
   "source": [
    "ns = 6\n",
    "ds = 50\n",
    "ts = 50"
   ]
  },
  {
   "cell_type": "code",
   "execution_count": null,
   "id": "8fb3583a-0b11-43f2-b1c1-1d51b376f642",
   "metadata": {},
   "outputs": [],
   "source": []
  },
  {
   "cell_type": "markdown",
   "id": "dfed3119-1d57-4446-aac1-d0c8d4f39642",
   "metadata": {},
   "source": [
    "### global all paths"
   ]
  },
  {
   "cell_type": "code",
   "execution_count": 11,
   "id": "5370428b-7c90-40c9-9f09-64dd1ae8ae59",
   "metadata": {},
   "outputs": [
    {
     "data": {
      "text/plain": [
       "Path[]"
      ]
     },
     "execution_count": 11,
     "metadata": {},
     "output_type": "execute_result"
    }
   ],
   "source": [
    "all_paths = Vector{Path}()"
   ]
  },
  {
   "cell_type": "markdown",
   "id": "085376fb-62f6-4c3f-b221-ab9e43f99eec",
   "metadata": {},
   "source": [
    "#### Function that reads Solomon instances"
   ]
  },
  {
   "cell_type": "code",
   "execution_count": 12,
   "id": "217cd137-f5f3-4082-9407-753360f40e0c",
   "metadata": {},
   "outputs": [
    {
     "data": {
      "text/plain": [
       "read_vrptw_instance (generic function with 1 method)"
      ]
     },
     "execution_count": 12,
     "metadata": {},
     "output_type": "execute_result"
    }
   ],
   "source": [
    "function read_vrptw_instance(file_path::String)\n",
    "    customers = []\n",
    "    depot = nothing\n",
    "    vehicle_capacity = 0  # Placeholder for vehicle capacity\n",
    "    number_of_vehicles = 0  # Placeholder for number of vehicles\n",
    "\n",
    "    open(file_path, \"r\") do io\n",
    "        for (line_num, line) in enumerate(eachline(io))\n",
    "            # Extract vehicle information from the header\n",
    "            if line_num == 5\n",
    "                data = split(strip(line))\n",
    "                number_of_vehicles = parse(Int, data[1])  # Number of vehicles\n",
    "                vehicle_capacity = parse(Int, data[end])  # Vehicle capacity\n",
    "            end\n",
    "            \n",
    "            # Skip the header\n",
    "            if line_num <= 9\n",
    "                continue\n",
    "            end\n",
    "\n",
    "            # Parse data line\n",
    "            data = split(strip(line))\n",
    "            if length(data) == 7\n",
    "                id = parse(Int, data[1])\n",
    "                x = parse(Float32, data[2])\n",
    "                y = parse(Float32, data[3])\n",
    "                demand = parse(Int, data[4])\n",
    "                ready_time = parse(Int, data[5])\n",
    "                due_time = parse(Int, data[6])\n",
    "                service_time = parse(Int, data[7])\n",
    "\n",
    "                if id == 0\n",
    "                    # Create depot\n",
    "                    depot = Depot((number_of_customers+1), x, y, (ready_time, due_time), 0, service_time,[],[])\n",
    "                else\n",
    "                    # Create customer\n",
    "                    push!(customers, Customer(id, x, y, (ready_time, due_time), demand, service_time,[], [], [],[],[],[],[],[],[],[],ns))\n",
    "                end\n",
    "            end\n",
    "            if length(customers) == number_of_customers\n",
    "                break\n",
    "            end\n",
    "        end\n",
    "    end\n",
    "\n",
    "    if isnothing(depot)\n",
    "        error(\"No depot found in file!\")\n",
    "    end\n",
    "    all_locations = vcat(customers, [depot])\n",
    "    return all_locations,vehicle_capacity, number_of_vehicles\n",
    "end\n"
   ]
  },
  {
   "cell_type": "code",
   "execution_count": null,
   "id": "219088f1-9cc5-48e5-8055-85e44e4aa3bf",
   "metadata": {},
   "outputs": [],
   "source": []
  },
  {
   "cell_type": "markdown",
   "id": "d307e108-ca7d-421b-8da8-861f9b5ec26d",
   "metadata": {},
   "source": [
    "### change this file path you your txt file of the solomon instace that you want to run."
   ]
  },
  {
   "cell_type": "code",
   "execution_count": 13,
   "id": "9172984c-69de-4df4-99e5-92e2ab84aad5",
   "metadata": {},
   "outputs": [
    {
     "data": {
      "text/plain": [
       "\"/Users/simulation/Desktop/optym/In/r101.txt\""
      ]
     },
     "execution_count": 13,
     "metadata": {},
     "output_type": "execute_result"
    }
   ],
   "source": [
    "file_path = \"/Users/simulation/Desktop/optym/In/\"* inst* \".txt\""
   ]
  },
  {
   "cell_type": "markdown",
   "id": "afd2a51c-7086-4c40-9609-6ad25d292c6c",
   "metadata": {},
   "source": [
    "- read the instace and store information about all the customers, vehicle capacity."
   ]
  },
  {
   "cell_type": "code",
   "execution_count": 14,
   "id": "cbb687a8-4bf3-4a3b-ae8f-ac8d51226454",
   "metadata": {},
   "outputs": [
    {
     "data": {
      "text/plain": [
       "200"
      ]
     },
     "execution_count": 14,
     "metadata": {},
     "output_type": "execute_result"
    }
   ],
   "source": [
    "\n",
    "all_locations, vehicle_capacity, number_of_vehicles = read_vrptw_instance(file_path)\n",
    "num_locations = length(all_locations)  # Number of customers + depot\n",
    "max_time =  all_locations[end].time_window[2]\n",
    "vehicle_capacity\n"
   ]
  },
  {
   "cell_type": "markdown",
   "id": "2dfa001e-9d4d-425f-bed5-b95e05099932",
   "metadata": {},
   "source": [
    "#### We define a function that returns the distance between two customers. \n",
    "- The distance is rounded down to consider only the first decimal of the distance to get the same results as in the paper "
   ]
  },
  {
   "cell_type": "code",
   "execution_count": 15,
   "id": "133ac77b-41ee-4817-bbec-06edb7b1283a",
   "metadata": {},
   "outputs": [
    {
     "data": {
      "text/plain": [
       "distance (generic function with 1 method)"
      ]
     },
     "execution_count": 15,
     "metadata": {},
     "output_type": "execute_result"
    }
   ],
   "source": [
    "function distance(x1::Float32, y1::Float32, x2::Float32, y2::Float32)\n",
    "    d = sqrt((x1 - x2)^2 + (y1 - y2)^2)\n",
    "    truncated_d = floor(d * 10) / 10 \n",
    "    return truncated_d\n",
    "end"
   ]
  },
  {
   "cell_type": "markdown",
   "id": "11702958-8059-4799-8ede-e73aadfbd318",
   "metadata": {},
   "source": [
    "- easier way to get the distance from two customers with out typing every time the coordinates. "
   ]
  },
  {
   "cell_type": "code",
   "execution_count": 16,
   "id": "f490501c-00ae-4ffe-bc6c-6052984fed5a",
   "metadata": {},
   "outputs": [
    {
     "data": {
      "text/plain": [
       "distance_2 (generic function with 1 method)"
      ]
     },
     "execution_count": 16,
     "metadata": {},
     "output_type": "execute_result"
    }
   ],
   "source": [
    "function distance_2(cust1::Int, cust2::Int)\n",
    "    return distance(all_locations[cust1].x, all_locations[cust1].y,all_locations[cust2].x, all_locations[cust2].y)\n",
    "end"
   ]
  },
  {
   "cell_type": "code",
   "execution_count": 17,
   "id": "f3661d62-1d78-4626-974e-da1623d468aa",
   "metadata": {},
   "outputs": [
    {
     "data": {
      "text/plain": [
       "distance_3 (generic function with 1 method)"
      ]
     },
     "execution_count": 17,
     "metadata": {},
     "output_type": "execute_result"
    }
   ],
   "source": [
    "function distance_3(cust1::Int, cust2::Int)\n",
    "    return distance_2(cust1::Int, cust2::Int) + all_locations[cust1].service_time\n",
    "end"
   ]
  },
  {
   "cell_type": "markdown",
   "id": "fa0853cb-8916-4ee4-b464-756b2663e6f1",
   "metadata": {},
   "source": [
    "### Preprocessing\n",
    "-tighten the time windows. The distance from the depot to arrive to the customer since the triangle inequality holds, for the vehicle routing problem. "
   ]
  },
  {
   "cell_type": "code",
   "execution_count": 18,
   "id": "7912a615-5981-4da8-a101-8b996a229537",
   "metadata": {},
   "outputs": [
    {
     "name": "stdout",
     "output_type": "stream",
     "text": [
      "early time window is too loose 42 41 customer = 36\n"
     ]
    }
   ],
   "source": [
    "## Tighten time windows\n",
    "for u in all_locations\n",
    "    minim = distance_3(all_locations[end].id, u.id)\n",
    "    minim = Int(ceil(minim))\n",
    "    early_t = u.time_window[1]\n",
    "\n",
    "    if early_t < minim   \n",
    "        println(\"early time window is too loose \",  minim, \" \" ,early_t, \" customer = \", u.id)\n",
    "        early_t = Int(ceil(minim))\n",
    "    end\n",
    "    maxim = distance_3(u.id, all_locations[end].id)\n",
    "    late_t = u.time_window[2]\n",
    "    maxim += late_t\n",
    "    if maxim > all_locations[end].time_window[2] ## the time to go to the depot is not enought\n",
    "        maxim = maxim - all_locations[end].time_window[2] ## the excess from the bound\n",
    "        late_t = late_t - maxim ## late_t has to be reduced at least by the difference.\n",
    "        late_t = Int(floor(late_t))\n",
    "        println(\"late time window is too loose at the end \",  late_t , \" \" , u.time_window[2], \" customer = \", u.id)\n",
    "    end\n",
    "    u.time_window = (early_t,late_t)\n",
    "end\n"
   ]
  },
  {
   "cell_type": "markdown",
   "id": "d65f8969-1f1d-4c15-b6c7-be5c54f6befd",
   "metadata": {},
   "source": [
    "## New Compact formulation\n",
    "- First we create the buckets and necessary data structures\n",
    "- Next we build functions\n",
    "- Finally, we build the algorithm"
   ]
  },
  {
   "cell_type": "markdown",
   "id": "8af96275-8dcc-4da9-9d96-b506b75169a0",
   "metadata": {},
   "source": [
    "### Initiate the set of LA neighbours "
   ]
  },
  {
   "cell_type": "markdown",
   "id": "1345ece8-0ebc-4ff3-8375-0287bc52543f",
   "metadata": {},
   "source": [
    "- is_feasible is a function used to create the LA neighbors of a customer by making sure it is feasible to go from the depot to customer 1 and next to customer 2 without violating any resource constraints."
   ]
  },
  {
   "cell_type": "code",
   "execution_count": 19,
   "id": "a57d57b0-00f8-4dae-b088-cabb1055f388",
   "metadata": {},
   "outputs": [
    {
     "data": {
      "text/plain": [
       "is_feasible (generic function with 1 method)"
      ]
     },
     "execution_count": 19,
     "metadata": {},
     "output_type": "execute_result"
    }
   ],
   "source": [
    "function is_feasible(cust1::Int, cust2::Int)\n",
    "    time = max(all_locations[cust1].time_window[1], distance_3(cust1,length(all_locations)))\n",
    "    time += distance_3(cust1,cust2)\n",
    "    one = (all_locations[cust2].time_window[2]>= time)\n",
    "    demand = all_locations[cust2].demand\n",
    "    demand += all_locations[cust1].demand\n",
    "    two =  (demand <= vehicle_capacity)\n",
    "    return (one && two)\n",
    "end"
   ]
  },
  {
   "cell_type": "markdown",
   "id": "d297653e-f00f-493a-a577-2aa8c3564d29",
   "metadata": {},
   "source": [
    "- Next loop builds all the set of nearest neigbors for all customers"
   ]
  },
  {
   "cell_type": "code",
   "execution_count": 20,
   "id": "6268b926-dfc1-410a-a01c-c98bf2ffaf9f",
   "metadata": {},
   "outputs": [],
   "source": [
    "for i in 1:(num_locations - 1)\n",
    "    cus = all_locations[i]  # Current customer\n",
    "    customer_ids = [c.id for c in all_locations[1:end - 1] if c.id != cus.id]  # Exclude `cus` ID\n",
    "    # Sort customer IDs by distance to `cus`\n",
    "    nearest_n = sort(customer_ids, by = cid -> distance(cus.x, cus.y, all_locations[cid].x, all_locations[cid].y))\n",
    "    filter!(j -> is_feasible(i, j), nearest_n)\n",
    "    # Take the top `LA_size` customers\n",
    "    nearest_n = nearest_n[1:min(ns, length(nearest_n))]\n",
    "    all_locations[i].LA = nearest_n\n",
    "    all_locations[i].N = nearest_n\n",
    "end"
   ]
  },
  {
   "cell_type": "markdown",
   "id": "c2254670-6944-44f1-9536-c56840dfbc14",
   "metadata": {},
   "source": [
    "### function that up dates set of customers not in $N$"
   ]
  },
  {
   "cell_type": "code",
   "execution_count": 21,
   "id": "2c33b5be-d44a-42ab-8f68-5c6547ab84b1",
   "metadata": {},
   "outputs": [
    {
     "data": {
      "text/plain": [
       "update_not_N (generic function with 1 method)"
      ]
     },
     "execution_count": 21,
     "metadata": {},
     "output_type": "execute_result"
    }
   ],
   "source": [
    "function update_not_N(customer::Int)\n",
    "    not_N = [n for n in num_locations if !(n in all_locations[customer].N) && n!=customer]\n",
    "    all_locations[customer].Not_N = not_N\n",
    "end\n",
    "    "
   ]
  },
  {
   "cell_type": "code",
   "execution_count": 22,
   "id": "a760083f-fe7c-4e1b-988c-b16061a478c8",
   "metadata": {},
   "outputs": [],
   "source": [
    "for i in num_locations-1\n",
    "    update_not_N(i)\n",
    "end"
   ]
  },
  {
   "cell_type": "markdown",
   "id": "d3f2f32b-cc9f-4ec2-9a73-e842b2636cac",
   "metadata": {},
   "source": [
    "### Initiate $W^D$"
   ]
  },
  {
   "cell_type": "code",
   "execution_count": 23,
   "id": "abafdc86-c37c-49de-9539-9a22e862ed6a",
   "metadata": {},
   "outputs": [
    {
     "data": {
      "text/plain": [
       "Any[]"
      ]
     },
     "execution_count": 23,
     "metadata": {},
     "output_type": "execute_result"
    }
   ],
   "source": [
    "for i in 1:(num_locations - 1)\n",
    "    all_locations[i].W_D = []\n",
    "    demand = all_locations[i].demand\n",
    "    last_d = all_locations[i].demand\n",
    "    while last_d <= vehicle_capacity\n",
    "        last_d = min(vehicle_capacity, last_d)\n",
    "        push!(all_locations[i].W_D,last_d)\n",
    "        last_d += ds\n",
    "    end\n",
    "end\n",
    "all_demand_nodes =[]\n"
   ]
  },
  {
   "cell_type": "code",
   "execution_count": 24,
   "id": "e55109d2-fb89-42d8-92fc-7e3690dc6598",
   "metadata": {},
   "outputs": [
    {
     "data": {
      "text/plain": [
       "update_demand_edges (generic function with 1 method)"
      ]
     },
     "execution_count": 24,
     "metadata": {},
     "output_type": "execute_result"
    }
   ],
   "source": [
    "function update_demand_edges()\n",
    "    ##############################################################################################\n",
    "    # for every customer add a demand node based on the thresholds W_D. \n",
    "    # HEre we are just creating the nodes\n",
    "    # and not connecting them \n",
    "    for u in 1:(num_locations-1)\n",
    "        d_plus = all_locations[u].W_D[1]\n",
    "        id = length(all_demand_nodes) + 1\n",
    "        push!(all_demand_nodes, Demand_node(id,u,1, all_locations[u].demand , d_plus,[],[]))\n",
    "        push!(all_locations[u].B_D, all_demand_nodes[end])\n",
    "        for d in 2:length(all_locations[u].W_D)\n",
    "            id = length(all_demand_nodes) + 1\n",
    "            d_plus = all_locations[u].W_D[d]\n",
    "            d_minus = all_locations[u].W_D[d-1]+1\n",
    "            push!(all_demand_nodes, Demand_node(id, u, d, d_minus,d_plus,[],[]))\n",
    "            push!(all_locations[u].B_D, all_demand_nodes[end])\n",
    "        \n",
    "        end\n",
    "    end\n",
    "\n",
    "    push!(all_demand_nodes, Demand_node(length(all_demand_nodes)+1, num_locations, 0, 0, 0,[],[])) #depot_demand_node\n",
    "    push!(all_locations[end].B_D, all_demand_nodes[end]) ## add the depot node to the depot. \n",
    "    ##############################################################################################\n",
    "    \n",
    "    ##############################################################################################\n",
    "    ## connect every node with the same customer to the immediate one that follows. \n",
    "    ## no need to connect with the depot yet just connetc the customer node with the next\n",
    "    for u in 1:num_locations-1\n",
    "        for B_u in 1:length(all_locations[u].B_D)-1\n",
    "            push!(all_locations[u].B_D[B_u].forward, all_locations[u].B_D[B_u+1].id)\n",
    "            push!(all_locations[u].B_D[B_u+1].backward, all_locations[u].B_D[B_u].id)\n",
    "        end\n",
    "    end\n",
    "    ##############################################################################################\n",
    "    ## connect the demand node from one customer to the demand node of another customer.\n",
    "    ## here again we exclude the depot\n",
    "    for u in 1:num_locations-1\n",
    "        for B_u in 1:length(all_locations[u].B_D)\n",
    "            for w in 1:num_locations -1\n",
    "                if u != w\n",
    "                    for B_w in 1:length(all_locations[w].B_D)\n",
    "                        if all_locations[w].B_D[B_w].max_load >= all_locations[u].B_D[B_u].min_load + all_locations[w].demand\n",
    "                            push!(all_locations[u].B_D[B_u].forward, all_locations[w].B_D[B_w].id)\n",
    "                            push!(all_locations[w].B_D[B_w].backward, all_locations[u].B_D[B_u].id)\n",
    "                            break\n",
    "                        end\n",
    "                    end\n",
    "                end\n",
    "            end\n",
    "        end\n",
    "        ##############################################################################################\n",
    "        ## connect the last and the first demand node from each customer u to the depot demand node.\n",
    "        push!(all_locations[u].B_D[end].forward, length(all_demand_nodes))\n",
    "        push!(all_locations[u].B_D[1].backward, length(all_demand_nodes))\n",
    "        push!(all_demand_nodes[end].forward,all_locations[u].B_D[1].id)\n",
    "        push!(all_demand_nodes[end].backward, all_locations[u].B_D[end].id )\n",
    "        ##############################################################################################\n",
    "    end\n",
    "    return all_demand_nodes\n",
    "end"
   ]
  },
  {
   "cell_type": "code",
   "execution_count": 25,
   "id": "d04099d9-0e3c-43ba-bbee-c82bdea33c92",
   "metadata": {},
   "outputs": [
    {
     "data": {
      "text/plain": [
       "update_demand_edges (generic function with 2 methods)"
      ]
     },
     "execution_count": 25,
     "metadata": {},
     "output_type": "execute_result"
    }
   ],
   "source": [
    "function update_demand_edges(sol::Solution)\n",
    "    ##############################################################################################\n",
    "    # reset the buckets list to empty and rebuild them again at the later step.\n",
    "    # this could be improved in the future by only eliminating nodes that need to be removed and \n",
    "    # keeping nodes that need to stay.\n",
    "    sol.demand_nodes = []\n",
    "    \n",
    "    for u in 1:(num_locations)\n",
    "        sol.customers[u].B_D = []\n",
    "    end\n",
    "    \n",
    "    ##############################################################################################\n",
    "    # for every customer add a demand node based on the thresholds W_D. \n",
    "    # HEre we are just creating the nodes\n",
    "    # and not connecting them \n",
    "    for u in 1:(num_locations-1)\n",
    "        d_plus = sol.customers[u].W_D[1]\n",
    "        id = length(sol.demand_nodes) + 1\n",
    "        push!(sol.demand_nodes, Demand_node(id, u, 1, sol.customers[u].demand, d_plus, [], []))\n",
    "        push!(sol.customers[u].B_D, sol.demand_nodes[end])\n",
    "        for d in 2:length(sol.customers[u].W_D)\n",
    "            id = length(sol.demand_nodes) + 1\n",
    "            d_plus = sol.customers[u].W_D[d]\n",
    "            d_minus = sol.customers[u].W_D[d-1] + 1\n",
    "            push!(sol.demand_nodes, Demand_node(id, u, d, d_minus, d_plus, [], []))\n",
    "            push!(sol.customers[u].B_D, sol.demand_nodes[end])\n",
    "        end\n",
    "    end\n",
    "\n",
    "    push!(sol.demand_nodes, Demand_node(length(sol.demand_nodes) + 1, num_locations, 0, 0, 0, [], [])) #depot_time_node\n",
    "    push!(sol.customers[end].B_D, sol.demand_nodes[end]) ## add the depot node to the depot.\n",
    "    ##############################################################################################\n",
    "    \n",
    "    ##############################################################################################\n",
    "    ## connect every node with the same customer to the immediate one that follows. \n",
    "    ## no need to connect with the depot yet just connect the customer node with the next\n",
    "\n",
    "    for u in 1:num_locations - 1\n",
    "        for B_u in 1:length(sol.customers[u].B_D) - 1\n",
    "            push!(sol.customers[u].B_D[B_u].forward, sol.customers[u].B_D[B_u + 1].id)\n",
    "            push!(sol.customers[u].B_D[B_u + 1].backward, sol.customers[u].B_D[B_u].id)\n",
    "        end\n",
    "    end\n",
    "    ##############################################################################################\n",
    "    ## connect the demand node from one customer to the demand node of another customer.\n",
    "    ## here again we exclude the depot\n",
    "    \n",
    "    for u in 1:num_locations - 1\n",
    "        for B_u in 1:length(sol.customers[u].B_D)\n",
    "            for w in 1:num_locations - 1\n",
    "                if u != w\n",
    "                    for B_w in 1:length(sol.customers[w].B_D)\n",
    "                        if sol.customers[w].B_D[B_w].max_load >= sol.customers[u].B_D[B_u].min_load + sol.customers[w].demand\n",
    "                            push!(sol.customers[u].B_D[B_u].forward, sol.customers[w].B_D[B_w].id)\n",
    "                            push!(sol.customers[w].B_D[B_w].backward, sol.customers[u].B_D[B_u].id)\n",
    "                            break\n",
    "                        end\n",
    "                    end\n",
    "                end\n",
    "            end\n",
    "        end\n",
    "        \n",
    "        ##############################################################################################\n",
    "        ## connect the last and the first demand node from each customer u to the depot demand node.\n",
    "        push!(sol.customers[u].B_D[end].forward, length(sol.demand_nodes))\n",
    "        push!(sol.customers[u].B_D[1].backward, length(sol.demand_nodes))\n",
    "        push!(sol.demand_nodes[end].forward, sol.customers[u].B_D[1].id)\n",
    "        push!(sol.demand_nodes[end].backward, sol.customers[u].B_D[end].id)\n",
    "        \n",
    "        ##############################################################################################\n",
    "        if sol.customers[end].B_D[1].id != length(sol.demand_nodes)\n",
    "            println(\" the nodes did not update correctly and depot is still the old depot \")\n",
    "            println(\"length \", length(sol.customers[end].B_D))\n",
    "        end\n",
    "    end\n",
    "end\n"
   ]
  },
  {
   "cell_type": "markdown",
   "id": "0224ec2a-04a4-4cc6-9385-0051826fa155",
   "metadata": {},
   "source": [
    "### Initiate $W^T$"
   ]
  },
  {
   "cell_type": "code",
   "execution_count": 26,
   "id": "7ccb1e50-92e5-452d-8882-475ed6d464e9",
   "metadata": {},
   "outputs": [
    {
     "data": {
      "text/plain": [
       "Any[]"
      ]
     },
     "execution_count": 26,
     "metadata": {},
     "output_type": "execute_result"
    }
   ],
   "source": [
    "for i in 1:(num_locations - 1)\n",
    "    early_t = all_locations[i].time_window[1]\n",
    "    late_t = all_locations[i].time_window[2]\n",
    "    all_locations[i].W_T = []\n",
    "    threshold = early_t\n",
    "    threshold = min(late_t, threshold )\n",
    "    push!(all_locations[i].W_T, threshold)\n",
    "    while threshold < late_t\n",
    "        threshold += ts\n",
    "        threshold = min(late_t, threshold)\n",
    "        push!(all_locations[i].W_T, threshold)\n",
    "        \n",
    "    end\n",
    "end\n",
    "all_time_nodes = []"
   ]
  },
  {
   "cell_type": "code",
   "execution_count": null,
   "id": "e997f46d-3330-4dc6-9773-e35827c46c0a",
   "metadata": {},
   "outputs": [],
   "source": []
  },
  {
   "cell_type": "code",
   "execution_count": 27,
   "id": "5a47d2b9-9297-4178-98de-bf344109e8c7",
   "metadata": {},
   "outputs": [
    {
     "data": {
      "text/plain": [
       "update_time_edges (generic function with 1 method)"
      ]
     },
     "execution_count": 27,
     "metadata": {},
     "output_type": "execute_result"
    }
   ],
   "source": [
    "function update_time_edges()\n",
    "    ##############################################################################################\n",
    "    # for every customer add a time node based on the thresholds W_T. \n",
    "    # HEre we are just creating the nodes\n",
    "    # and not connecting them \n",
    "    for u in 1:(num_locations-1)\n",
    "        t_plus = all_locations[u].W_T[1]\n",
    "        id = length(all_time_nodes) + 1\n",
    "        push!(all_time_nodes, Time_node(id, u, 1, all_locations[u].time_window[1], t_plus,[],[]))\n",
    "        push!(all_locations[u].B_T, all_time_nodes[end])\n",
    "        for t in 2:length(all_locations[u].W_T)\n",
    "            id = length(all_time_nodes) + 1\n",
    "            t_plus = all_locations[u].W_T[t]\n",
    "            t_minus = all_locations[u].W_T[t-1]+1\n",
    "            push!(all_time_nodes, Time_node(id, u, t, t_minus,t_plus,[],[]))\n",
    "            push!(all_locations[u].B_T, all_time_nodes[end])\n",
    "        end\n",
    "    end\n",
    "    \n",
    "    push!(all_time_nodes, Time_node(length(all_time_nodes) + 1, num_locations, 0, 0, all_locations[end].time_window[2], [],[]))\n",
    "    push!(all_locations[end].B_T, all_time_nodes[end]) ## add the depot node to the depot. \n",
    "    ##############################################################################################\n",
    "    \n",
    "    ##############################################################################################\n",
    "    ## connect every node with the same customer to the immediate one that follows. \n",
    "    ## no need to connect with the depot yet just connect the customer node with the next\n",
    "    for u in 1:num_locations-1\n",
    "        for B_u in 1:length(all_locations[u].B_T)-1\n",
    "            push!(all_locations[u].B_T[B_u].forward, all_locations[u].B_T[B_u+1].id)\n",
    "            push!(all_locations[u].B_T[B_u+1].backward, all_locations[u].B_T[B_u].id)\n",
    "        end\n",
    "    end\n",
    "    ##############################################################################################\n",
    "    ## connect the time node from one customer to the time node of another customer.\n",
    "    ## here again we exclude the depot\n",
    "    for u in 1:num_locations-1\n",
    "        for B_u in 1:length(all_locations[u].B_T)\n",
    "            for w in 1:num_locations -1\n",
    "                if u != w\n",
    "                    for B_w in 1:length(all_locations[w].B_T)\n",
    "                        bound_time = all_locations[u].B_T[B_u].min_time + distance_3(all_locations[u].id,all_locations[w].id)\n",
    "                        if all_locations[w].B_T[B_w].max_time >= bound_time\n",
    "                            push!(all_locations[u].B_T[B_u].forward, all_locations[w].B_T[B_w].id)\n",
    "                            push!(all_locations[w].B_T[B_w].backward, all_locations[u].B_T[B_u].id)\n",
    "                            break\n",
    "                        end\n",
    "                    end\n",
    "                end\n",
    "            end\n",
    "        end\n",
    "        ##############################################################################################\n",
    "        ## connect the last and the first demand node from each customer u to the depot demand node.\n",
    "        push!(all_locations[u].B_T[end].forward, length(all_time_nodes))\n",
    "        push!(all_locations[u].B_T[1].backward, length(all_time_nodes))\n",
    "        push!(all_time_nodes[end].forward,all_locations[u].B_T[1].id)\n",
    "        push!(all_time_nodes[end].backward, all_locations[u].B_T[end].id )\n",
    "        ##############################################################################################\n",
    "    end\n",
    "    return all_time_nodes\n",
    "end"
   ]
  },
  {
   "cell_type": "code",
   "execution_count": 28,
   "id": "a41f6b0c-5921-41b2-8868-fdb02e98874d",
   "metadata": {},
   "outputs": [
    {
     "data": {
      "text/plain": [
       "update_time_edges (generic function with 2 methods)"
      ]
     },
     "execution_count": 28,
     "metadata": {},
     "output_type": "execute_result"
    }
   ],
   "source": [
    "function update_time_edges(sol::Solution)\n",
    "    # Clear relevant lists before starting\n",
    "    \n",
    "    sol.time_nodes = []\n",
    "    for u in 1:num_locations\n",
    "        sol.customers[u].B_T = []\n",
    "    end\n",
    "\n",
    "    for u in 1:(num_locations-1)\n",
    "        t_plus = sol.customers[u].W_T[1]\n",
    "        id = length(sol.time_nodes) + 1\n",
    "        push!(sol.time_nodes, Time_node(id, u, 1, sol.customers[u].time_window[1], t_plus, [], []))\n",
    "        push!(sol.customers[u].B_T, sol.time_nodes[end])\n",
    "        for t in 2:length(sol.customers[u].W_T)\n",
    "            id = length(sol.time_nodes) + 1\n",
    "            t_plus = sol.customers[u].W_T[t]\n",
    "            t_minus = sol.customers[u].W_T[t-1] + 1\n",
    "            push!(sol.time_nodes, Time_node(id, u, t, t_minus, t_plus, [], []))\n",
    "            push!(sol.customers[u].B_T, sol.time_nodes[end])\n",
    "        end\n",
    "    end\n",
    "\n",
    "    push!(sol.time_nodes, Time_node(length(sol.time_nodes) + 1, num_locations, 0, 0, sol.customers[end].time_window[2], [], []))\n",
    "    push!(sol.customers[end].B_T, sol.time_nodes[end]) ## add the depot node to the depot. \n",
    "    for u in 1:num_locations-1\n",
    "        for B_u in 1:length(sol.customers[u].B_T) - 1\n",
    "            push!(sol.customers[u].B_T[B_u].forward, sol.customers[u].B_T[B_u+1].id)\n",
    "            push!(sol.customers[u].B_T[B_u+1].backward, sol.customers[u].B_T[B_u].id)\n",
    "        end\n",
    "    end\n",
    "            \n",
    "    for u in 1:num_locations-1\n",
    "        for B_u in 1:length(sol.customers[u].B_T)\n",
    "            for w in 1:num_locations -1\n",
    "                if u != w\n",
    "                    for B_w in 1:length(sol.customers[w].B_T)\n",
    "                        bound_time = sol.customers[u].B_T[B_u].min_time + distance_3(sol.customers[u].id, sol.customers[w].id)\n",
    "                        if sol.customers[w].B_T[B_w].max_time >= bound_time\n",
    "                            push!(sol.customers[u].B_T[B_u].forward, sol.customers[w].B_T[B_w].id)\n",
    "                            push!(sol.customers[w].B_T[B_w].backward, sol.customers[u].B_T[B_u].id)\n",
    "                            break\n",
    "                        end\n",
    "                    end\n",
    "                end\n",
    "            end\n",
    "        end\n",
    "        push!(sol.customers[u].B_T[end].forward, length(sol.time_nodes))\n",
    "        push!(sol.customers[u].B_T[1].backward, length(sol.time_nodes))\n",
    "        push!(sol.time_nodes[end].forward, sol.customers[u].B_T[1].id)\n",
    "        push!(sol.time_nodes[end].backward, sol.customers[u].B_T[end].id)\n",
    "    end\n",
    "    return sol.time_nodes\n",
    "end\n"
   ]
  },
  {
   "cell_type": "code",
   "execution_count": 29,
   "id": "894c4a68-124f-4e60-86a9-33d62ad89595",
   "metadata": {},
   "outputs": [
    {
     "data": {
      "text/plain": [
       "101-element Vector{Any}:\n",
       " Time_node(1, 1, 1, 161.0f0, 161.0f0, [2], [101, 3, 4, 5, 6, 9, 10, 11, 12, 13  …  87, 88, 89, 90, 93, 94, 97, 98, 99, 100])\n",
       " Time_node(2, 1, 2, 162.0f0, 171.0f0, [101], [1, 51, 52, 91, 92])\n",
       " Time_node(3, 2, 1, 50.0f0, 50.0f0, [4, 1, 5, 7, 11, 16, 19, 25, 33, 36  …  67, 69, 73, 76, 79, 81, 85, 91, 95, 99], [101])\n",
       " Time_node(4, 2, 2, 51.0f0, 60.0f0, [1, 5, 7, 11, 16, 19, 25, 33, 36, 39  …  67, 69, 73, 79, 81, 85, 91, 95, 99, 101], [3, 83, 84])\n",
       " Time_node(5, 3, 1, 116.0f0, 116.0f0, [6, 1, 8, 25, 47, 49, 70, 96], [3, 4, 101, 9, 10, 23, 24, 27, 28, 41  …  71, 72, 77, 78, 83, 84, 89, 90, 93, 94])\n",
       " Time_node(6, 3, 2, 117.0f0, 126.0f0, [1, 8, 25, 47, 49, 70, 96, 101], [5, 17, 18, 21, 22, 29, 30, 45, 46, 79, 80])\n",
       " Time_node(7, 4, 1, 149.0f0, 149.0f0, [8, 49], [3, 4, 101, 9, 10, 11, 12, 13, 14, 17  …  81, 82, 83, 84, 87, 88, 89, 90, 93, 94])\n",
       " Time_node(8, 4, 2, 150.0f0, 159.0f0, [49, 101], [7, 5, 6, 15, 16, 51, 52])\n",
       " Time_node(9, 5, 1, 34.0f0, 34.0f0, [10, 1, 5, 7, 11, 13, 15, 17, 19, 25  …  73, 75, 79, 81, 85, 87, 91, 95, 97, 99], [101])\n",
       " Time_node(10, 5, 2, 35.0f0, 44.0f0, [1, 5, 7, 11, 13, 15, 17, 19, 25, 31  …  75, 79, 81, 85, 87, 91, 95, 97, 99, 101], [9])\n",
       " Time_node(11, 6, 1, 99.0f0, 99.0f0, [12, 1, 7, 25, 33, 47, 49, 51, 64, 73, 86, 95], [3, 4, 9, 10, 101, 23, 27, 28, 29, 30  …  71, 72, 77, 78, 83, 84, 89, 90, 93, 94])\n",
       " Time_node(12, 6, 2, 100.0f0, 109.0f0, [1, 7, 25, 33, 47, 49, 51, 64, 73, 86, 95, 101], [11, 24, 31, 32, 35, 87, 88])\n",
       " Time_node(13, 7, 1, 81.0f0, 81.0f0, [14, 1, 7, 16, 19, 25, 33, 39, 47, 49, 51, 63, 69, 73, 86, 91, 95, 98, 99], [9, 10, 101, 53, 54, 55, 56, 61, 62, 65, 66, 71, 72, 83, 84, 89, 90, 93, 94])\n",
       " ⋮\n",
       " Time_node(90, 45, 2, 33.0f0, 42.0f0, [1, 5, 7, 11, 13, 15, 17, 19, 22, 25  …  75, 79, 81, 85, 87, 91, 95, 97, 99, 101], [89])\n",
       " Time_node(91, 46, 1, 117.0f0, 117.0f0, [92, 2, 26, 33, 95], [3, 4, 9, 10, 13, 14, 15, 16, 21, 22  …  72, 83, 84, 87, 88, 89, 90, 101, 93, 94])\n",
       " Time_node(92, 46, 2, 118.0f0, 127.0f0, [2, 26, 33, 95, 101], [91, 23, 24, 29, 30, 36, 41, 42, 59, 60, 77, 78])\n",
       " Time_node(93, 47, 1, 51.0f0, 51.0f0, [94, 1, 5, 7, 11, 13, 15, 19, 22, 25  …  51, 63, 68, 69, 73, 85, 91, 95, 97, 99], [101])\n",
       " Time_node(94, 47, 2, 52.0f0, 61.0f0, [1, 5, 7, 11, 13, 15, 19, 22, 25, 33  …  63, 68, 69, 73, 85, 91, 95, 97, 99, 101], [93, 71, 72, 89])\n",
       " Time_node(95, 48, 1, 165.0f0, 165.0f0, [96], [3, 4, 9, 10, 11, 12, 13, 14, 15, 16  …  88, 89, 90, 91, 92, 93, 94, 101, 97, 98])\n",
       " Time_node(96, 48, 2, 166.0f0, 175.0f0, [101], [95, 5, 6, 39, 40, 99, 100])\n",
       " Time_node(97, 49, 1, 108.0f0, 108.0f0, [98, 1, 26, 33, 64, 95], [9, 10, 21, 22, 27, 28, 37, 38, 53, 54  …  66, 71, 72, 83, 84, 89, 90, 93, 94, 101])\n",
       " Time_node(98, 49, 2, 109.0f0, 118.0f0, [1, 26, 33, 64, 95, 101], [97, 13, 14, 59, 60])\n",
       " Time_node(99, 50, 1, 124.0f0, 124.0f0, [100, 1, 26, 48, 49, 96], [3, 4, 9, 10, 13, 14, 17, 18, 21, 22  …  78, 79, 80, 83, 84, 89, 90, 93, 94, 101])\n",
       " Time_node(100, 50, 2, 125.0f0, 134.0f0, [1, 26, 48, 49, 96, 101], [99, 31, 32, 35, 36, 87, 88])\n",
       " Time_node(101, 51, 0, 0.0f0, 230.0f0, [1, 3, 5, 7, 9, 11, 13, 15, 17, 19  …  81, 83, 85, 87, 89, 91, 93, 95, 97, 99], [2, 4, 6, 8, 10, 12, 14, 16, 18, 20  …  82, 84, 86, 88, 90, 92, 94, 96, 98, 100])"
      ]
     },
     "execution_count": 29,
     "metadata": {},
     "output_type": "execute_result"
    }
   ],
   "source": [
    "all_demand_nodes = update_demand_edges()\n",
    "all_time_nodes = update_time_edges()\n"
   ]
  },
  {
   "cell_type": "code",
   "execution_count": 30,
   "id": "cb600715-9d2a-4e74-b9d1-6dc24a50030b",
   "metadata": {},
   "outputs": [],
   "source": [
    "### debugging stuff\n",
    "for b in 1:length(all_time_nodes)\n",
    "    for i in all_time_nodes[b].forward\n",
    "        found = false\n",
    "        for j in all_time_nodes[i].backward\n",
    "            if j == b\n",
    "                found = true\n",
    "                break\n",
    "            end\n",
    "        end\n",
    "        if !found\n",
    "            print(\"Demand b connects to i but i does not know about it  b,i ( $b , $i )\")\n",
    "        end\n",
    "    end\n",
    "end         \n",
    "\n",
    "for b in 1:length(all_demand_nodes)\n",
    "    for i in all_demand_nodes[b].forward\n",
    "        found = false\n",
    "        for j in all_demand_nodes[i].backward\n",
    "            if j == b\n",
    "                found = true\n",
    "                break\n",
    "            end\n",
    "        end\n",
    "        if !found\n",
    "            print(\"Demand b connects to i but i does not know about it  b,i ( $b , $i )\")\n",
    "        end\n",
    "    end\n",
    "end   \n",
    "    "
   ]
  },
  {
   "cell_type": "markdown",
   "id": "e6ab46bd-c76d-45a4-a827-60b5158a4976",
   "metadata": {},
   "source": [
    "# Algorithm 1\n",
    "### Dynamic programming algorithm\n",
    "### Initiate LA routes Ru\n",
    "### Create non pareto dominated paths for each $u \\in N$"
   ]
  },
  {
   "cell_type": "markdown",
   "id": "d1bcf8be-3714-44f2-ac1e-e617868fe0df",
   "metadata": {},
   "source": [
    "- Label is a struct that stores information about the current path."
   ]
  },
  {
   "cell_type": "code",
   "execution_count": 31,
   "id": "a5a3ab47-7688-4516-bcb1-553c1ca6d0ca",
   "metadata": {},
   "outputs": [],
   "source": [
    "mutable struct Label\n",
    "    cost::Float32                        \n",
    "    time_early::Float32\n",
    "    time_late::Float32\n",
    "    load::Float32\n",
    "    customer::Int             # Current node ID\n",
    "    previous::Union{Label, Nothing}  # Previous label (for backtracking)\n",
    "end"
   ]
  },
  {
   "cell_type": "markdown",
   "id": "7213163e-27d9-461c-bd41-fb1c3e430eb0",
   "metadata": {},
   "source": [
    "- contains_cust is a function that checks wheather the customer is already visited in a label. "
   ]
  },
  {
   "cell_type": "code",
   "execution_count": 32,
   "id": "ffc598b6-29bf-4e0c-9486-f0886323a07f",
   "metadata": {},
   "outputs": [
    {
     "data": {
      "text/plain": [
       "contains_cust (generic function with 1 method)"
      ]
     },
     "execution_count": 32,
     "metadata": {},
     "output_type": "execute_result"
    }
   ],
   "source": [
    "function contains_cust(L::Label, cust::Int)\n",
    "    ## returns true if the costomer was visited in label L\n",
    "    L_p = L\n",
    "    while L_p != nothing\n",
    "        c = L_p.customer\n",
    "        if c == cust\n",
    "            return true\n",
    "        end\n",
    "        L_p = L_p.previous\n",
    "    end\n",
    "    return false\n",
    "end"
   ]
  },
  {
   "cell_type": "code",
   "execution_count": 33,
   "id": "05d5c0d2-3757-4ff9-9c4a-776e57c54060",
   "metadata": {},
   "outputs": [
    {
     "data": {
      "text/plain": [
       "contains_all (generic function with 1 method)"
      ]
     },
     "execution_count": 33,
     "metadata": {},
     "output_type": "execute_result"
    }
   ],
   "source": [
    "function contains_all(L1::Label,L2::Label)\n",
    "    # Returns true if set of visited customer are the same in both labels. \n",
    "    L1_p = L1\n",
    "    L2_p = L2\n",
    "    # check whether l1 is in l2\n",
    "    while L1_p != nothing\n",
    "        if !contains_cust(L2, L1_p.customer)\n",
    "            return false\n",
    "        end\n",
    "        L1_p = L1_p.previous\n",
    "    end\n",
    "    # check whether L2 is in L1\n",
    "    while L2_p != nothing\n",
    "        if !contains_cust(L1, L2_p.customer)\n",
    "            return false\n",
    "        end\n",
    "        L2_p = L2_p.previous\n",
    "    end\n",
    "    return true\n",
    "end "
   ]
  },
  {
   "cell_type": "markdown",
   "id": "10587a1b-961b-4d5a-8ea5-10fe437dfb34",
   "metadata": {},
   "source": [
    "- dominates is a function that compares two Labels that start and end in the same place while visiting the same set of customers. "
   ]
  },
  {
   "cell_type": "code",
   "execution_count": null,
   "id": "1b2f683b-cc0b-46cd-a23a-92c5fc748e71",
   "metadata": {},
   "outputs": [],
   "source": []
  },
  {
   "cell_type": "markdown",
   "id": "c22dde7d-5c1a-44f2-a83a-bc6c4cf42ee0",
   "metadata": {},
   "source": [
    "## Resource extension functions. \n",
    "- Here we build a set of functions that keep track of the resources used while expanding the labels from one state to the next. "
   ]
  },
  {
   "cell_type": "code",
   "execution_count": 34,
   "id": "42db5a11-173d-4594-a274-95a540e9a994",
   "metadata": {},
   "outputs": [
    {
     "data": {
      "text/plain": [
       "resource_cost (generic function with 1 method)"
      ]
     },
     "execution_count": 34,
     "metadata": {},
     "output_type": "execute_result"
    }
   ],
   "source": [
    "function resource_cost(L1::Label, cust2::Int)\n",
    "    cost = L1.cost\n",
    "    cost += distance_2(L1.customer, cust2)\n",
    "    return cost\n",
    "end"
   ]
  },
  {
   "cell_type": "code",
   "execution_count": null,
   "id": "d59ddb73-e1d2-4ea8-b853-c80b56e24ebc",
   "metadata": {},
   "outputs": [],
   "source": []
  },
  {
   "cell_type": "code",
   "execution_count": 35,
   "id": "9741ee3f-6589-4593-9ea1-96764b4bd770",
   "metadata": {},
   "outputs": [
    {
     "data": {
      "text/plain": [
       "resource_time_early (generic function with 1 method)"
      ]
     },
     "execution_count": 35,
     "metadata": {},
     "output_type": "execute_result"
    }
   ],
   "source": [
    "function resource_time_early(L1::Label, cust2::Int)\n",
    "    time = L1.time_early + distance_3(L1.customer,cust2)\n",
    "    time = max(all_locations[cust2].time_window[1], time)\n",
    "    return time\n",
    "end"
   ]
  },
  {
   "cell_type": "code",
   "execution_count": 36,
   "id": "e9d3c160-45d7-4838-9fc1-060a747166e1",
   "metadata": {},
   "outputs": [
    {
     "data": {
      "text/plain": [
       "resource_time_latest (generic function with 1 method)"
      ]
     },
     "execution_count": 36,
     "metadata": {},
     "output_type": "execute_result"
    }
   ],
   "source": [
    "function resource_time_latest(L1::Label, cust2::Int)\n",
    "    time = L1.time_late + distance_3(L1.customer, cust2)\n",
    "    time = min(all_locations[cust2].time_window[2], time)\n",
    "    return time\n",
    "end"
   ]
  },
  {
   "cell_type": "code",
   "execution_count": 37,
   "id": "0ed88d95-d95c-48ad-8f57-942e7bc3a5d0",
   "metadata": {},
   "outputs": [
    {
     "data": {
      "text/plain": [
       "resource_load (generic function with 1 method)"
      ]
     },
     "execution_count": 37,
     "metadata": {},
     "output_type": "execute_result"
    }
   ],
   "source": [
    "function resource_load(L1::Label, cust2::Int)\n",
    "    load = L1.load\n",
    "    load += all_locations[cust2].demand\n",
    "    return load\n",
    "end"
   ]
  },
  {
   "cell_type": "code",
   "execution_count": 38,
   "id": "c27b37e6-7aae-4555-96f7-6d9fc9d4f98d",
   "metadata": {},
   "outputs": [
    {
     "data": {
      "text/plain": [
       "label_extension (generic function with 1 method)"
      ]
     },
     "execution_count": 38,
     "metadata": {},
     "output_type": "execute_result"
    }
   ],
   "source": [
    "function label_extension(L::Label, cust::Int)\n",
    "    cost = resource_cost(L,cust)\n",
    "    early = resource_time_early(L, cust)\n",
    "    late = resource_time_latest(L, cust)\n",
    "    load = resource_load(L, cust)\n",
    "    new_label = Label(cost, early, late, load, cust, L)\n",
    "    return new_label\n",
    "end"
   ]
  },
  {
   "cell_type": "code",
   "execution_count": 39,
   "id": "015696e2-f432-432b-a18b-e11f45cdc000",
   "metadata": {},
   "outputs": [
    {
     "data": {
      "text/plain": [
       "feasible (generic function with 1 method)"
      ]
     },
     "execution_count": 39,
     "metadata": {},
     "output_type": "execute_result"
    }
   ],
   "source": [
    "function feasible(L::Label, cust::Int)\n",
    "    time1 = resource_time_early(L, cust) # early time window \n",
    "    time  = (time1 <= all_locations[cust].time_window[2]) #bool if early time is less than late time window\n",
    "    load = resource_load(L, cust) # total load has to be less than the capacity of the vehicle.\n",
    "    return time && load <= vehicle_capacity && !contains_cust(L, cust)\n",
    "end\n",
    "    "
   ]
  },
  {
   "cell_type": "code",
   "execution_count": 40,
   "id": "be1d7782-b168-412c-923d-73d2f36de5a7",
   "metadata": {},
   "outputs": [
    {
     "data": {
      "text/plain": [
       "dominates (generic function with 1 method)"
      ]
     },
     "execution_count": 40,
     "metadata": {},
     "output_type": "execute_result"
    }
   ],
   "source": [
    "function dominates(L1::Label, L2::Label)::Bool\n",
    "    resources = L1.cost <= L2.cost && L1.time_early <= L2.time_early && L1.time_late -L1.cost>= L2.time_late - L1.cost && L1.customer == L2.customer\n",
    "    return resources && contains_all(L1,L2)\n",
    "end"
   ]
  },
  {
   "cell_type": "code",
   "execution_count": 41,
   "id": "51f8381a-1897-459b-b408-94bc58b1e2e8",
   "metadata": {},
   "outputs": [
    {
     "data": {
      "text/plain": [
       "dominates_2 (generic function with 1 method)"
      ]
     },
     "execution_count": 41,
     "metadata": {},
     "output_type": "execute_result"
    }
   ],
   "source": [
    "function dominates_2(L1::Label, L2::Label, cust2::Int)::Bool\n",
    "    cost1 = resource_cost(L1, cust2)\n",
    "    early1 = resource_time_early(L1, cust2)\n",
    "    late1 = resource_time_latest(L1,cust2)\n",
    "    #################################\n",
    "    cost2 = resource_cost(L2, cust2)\n",
    "    early2 = resource_time_early(L2,cust2)\n",
    "    late2 = resource_time_latest(L2,cust2)\n",
    "    ###################################\n",
    "    resources = cost1 <= cost2 && early1 <= early2 && late1 -cost1 >= late2 - cost2\n",
    "    ###################################\n",
    "    if feasible(L1,cust2)&& !feasible(L2,cust2)\n",
    "        return true\n",
    "    end\n",
    "    return resources && contains_all(L1,L2)\n",
    "end"
   ]
  },
  {
   "cell_type": "markdown",
   "id": "ce613a7e-5a59-4bd5-aff2-23ff65b9f2fa",
   "metadata": {},
   "source": [
    "- build_path is a function that takes a label and using backtracking retrives the list of customers used in the path and returns a list with the correct sequence of customer visits from the start of the path to the end. "
   ]
  },
  {
   "cell_type": "code",
   "execution_count": 42,
   "id": "b4b101a0-a5f0-413f-9bae-680be3532759",
   "metadata": {},
   "outputs": [
    {
     "data": {
      "text/plain": [
       "build_path (generic function with 1 method)"
      ]
     },
     "execution_count": 42,
     "metadata": {},
     "output_type": "execute_result"
    }
   ],
   "source": [
    "function build_path(L::Label, future::Vector{Int},load, time)\n",
    "    L_p = L\n",
    "    path = []\n",
    "    while L_p != nothing\n",
    "        push!(path, L_p.customer)\n",
    "        L_p = L_p.previous\n",
    "    end\n",
    "    reverse!(path)\n",
    "    id = length(all_paths)\n",
    "    id +=1\n",
    "    push!(all_paths, Path(id ,path, future, load, time))\n",
    "    return all_paths[end]\n",
    "end"
   ]
  },
  {
   "cell_type": "markdown",
   "id": "61662d74-b6de-4e1f-8133-32a17606cad1",
   "metadata": {},
   "source": [
    "- from a label, it returns the first cutomer in path. "
   ]
  },
  {
   "cell_type": "code",
   "execution_count": 43,
   "id": "f1d3b01c-45be-4a98-814c-467fd1d4bb9d",
   "metadata": {},
   "outputs": [
    {
     "data": {
      "text/plain": [
       "first_customer (generic function with 1 method)"
      ]
     },
     "execution_count": 43,
     "metadata": {},
     "output_type": "execute_result"
    }
   ],
   "source": [
    "function first_customer(L::Label)\n",
    "    L_p = L\n",
    "    first_customer = L_p.customer\n",
    "    while L_p != nothing\n",
    "        first_customer = L_p.customer\n",
    "        L_p = L_p.previous\n",
    "    end\n",
    "    return first_customer\n",
    "end"
   ]
  },
  {
   "cell_type": "markdown",
   "id": "628cef4a-c98c-462f-a912-c7b2a94ece64",
   "metadata": {},
   "source": [
    "## DP Algorithm 2"
   ]
  },
  {
   "cell_type": "code",
   "execution_count": 44,
   "id": "bf5ae53c-f57d-4d96-91bb-5f8b14cc594c",
   "metadata": {},
   "outputs": [
    {
     "data": {
      "text/plain": [
       "non_dominated_paths_u (generic function with 1 method)"
      ]
     },
     "execution_count": 44,
     "metadata": {},
     "output_type": "execute_result"
    }
   ],
   "source": [
    "function non_dominated_paths_u(customer::Int) \n",
    "    cost = distance_3(all_locations[end].id,customer)\n",
    "    time = max(all_locations[customer].time_window[1], cost)\n",
    "    time2 = all_locations[customer].time_window[2]\n",
    "    load = all_locations[customer].demand\n",
    "    LA_paths = Dict{Tuple{Int, Int}, Vector{Label}}()\n",
    "    LA_paths[(0, customer)] = [Label(cost, time, time2, load, customer, nothing)]\n",
    "    set_size = length(all_locations[customer].N)\n",
    "    for i in 0:(set_size-1)\n",
    "        for cust1 in all_locations[customer].N\n",
    "            if i == 0\n",
    "                cust1 = customer\n",
    "            end\n",
    "            #get!(LA_paths, (i, cust1), [])\n",
    "            if !haskey(LA_paths, (i, cust1)) ## check if we have visited this customer.\n",
    "                continue\n",
    "            end\n",
    "            for L in LA_paths[(i, cust1)]\n",
    "                for cust2 in all_locations[customer].N\n",
    "                    if feasible(L,cust2)\n",
    "                        L1 = label_extension(L,cust2)\n",
    "                        dominated = false\n",
    "                        LA_paths[(i + 1, cust2)] = get!(LA_paths, (i + 1, cust2), [])  # Create an empty list if it doesn't exist\n",
    "                        for idx in length(LA_paths[(i + 1, cust2)]):-1:1\n",
    "                            L2 = LA_paths[(i + 1, cust2)][idx]\n",
    "                            if dominates(L2,L1)\n",
    "                                dominated = true\n",
    "                                break\n",
    "                            end\n",
    "                            if dominates(L1,L2)\n",
    "                                deleteat!(LA_paths[(i + 1, cust2)], idx)\n",
    "                            end\n",
    "                        end\n",
    "                        if !dominated\n",
    "                            push!(LA_paths[(i + 1, cust2)], L1)\n",
    "                        end \n",
    "                    end\n",
    "                end\n",
    "            end\n",
    "            if i == 0\n",
    "                break\n",
    "            end\n",
    "        end\n",
    "    end\n",
    "\n",
    "    #################################################################################################\n",
    "    ############################ EXTEND TO ALL OTHER CUSTOMERS ######################################\n",
    "    ############################ AND REMOVE THEM AFTERWARDS :) ######################################\n",
    "    #################################################################################################\n",
    "    \n",
    "    LA_arcs = Dict{Int, Vector{Label}}()\n",
    "    ## add the initial customer to the list, since it will not get dominated.\n",
    "    LA_arcs[0] = LA_paths[(0, customer)]\n",
    "    non_feasible = 0\n",
    "    for i in 1:set_size\n",
    "        for cust1 in all_locations[customer].N\n",
    "            if !haskey(LA_paths, (i, cust1)) ## check if we have visited this customer.\n",
    "                continue\n",
    "            end\n",
    "            for L in LA_paths[(i, cust1)] # this is the label that we want to add, potencially.\n",
    "                dominated = true\n",
    "                compare = false # did we compare something?\n",
    "                get!(LA_arcs,i, [])\n",
    "                if length(LA_arcs[i]) == 0\n",
    "                    compare = true\n",
    "                    dominated = false\n",
    "                end\n",
    "                for idx in length(LA_arcs[i]):-1:1\n",
    "                    \n",
    "                    L2 = LA_arcs[i][idx] # this is the label that we want to use in dominance\n",
    "                    dominated_2 = true\n",
    "                    \n",
    "                    if !contains_all(L,L2) ## if these labels do not represent the same set of customers continue\n",
    "                        continue\n",
    "                    end \n",
    "                    \n",
    "                    for cust2 in 1:length(all_locations) ## for all customers in the insance not in N\n",
    "                        if cust2 in all_locations[customer].N || cust2 == customer\n",
    "                            continue\n",
    "                        end\n",
    "                        if !feasible(L,cust2)\n",
    "                            continue\n",
    "                        end\n",
    "                        compare = true\n",
    "                        ############\n",
    "                        ## check which label dominates for this customer\n",
    "                        if dominates_2(L,L2,cust2)\n",
    "                            dominated = false\n",
    "                        elseif dominates_2(L2,L,cust2)\n",
    "                            dominanted_2 = false\n",
    "                        else\n",
    "                            dominated_2 = false\n",
    "                            dominated = false\n",
    "                            break\n",
    "                        end\n",
    "                    end\n",
    "                    if dominated_2\n",
    "                        deleteat!(LA_arcs[i],idx)\n",
    "                    end\n",
    "                    if compare && dominated\n",
    "                        break\n",
    "                    end\n",
    "                end\n",
    "                if compare && dominated\n",
    "                    continue\n",
    "                else\n",
    "                    push!(LA_arcs[i], L)\n",
    "                end\n",
    "            end\n",
    "        end\n",
    "    end\n",
    "\n",
    "    paths = Vector{Path}()\n",
    "    \n",
    "    for (key, value) in LA_paths\n",
    "        \n",
    "        for L in value \n",
    "            \n",
    "            #first = first_customer(L)\n",
    "            future = Vector{Int}()\n",
    "            #for kust in all_locations\n",
    "            #    if !(kust.id in all_locations[first].N)\n",
    "            #        if feasible(L, kust.id)\n",
    "            #            push!(future, kust.id)\n",
    "            #        end\n",
    "            #    end\n",
    "            #end\n",
    "            \n",
    "            push!(paths, build_path(L, future, L.load, L.time_early))\n",
    "        end\n",
    "    end\n",
    "    return paths\n",
    "end"
   ]
  },
  {
   "cell_type": "code",
   "execution_count": 45,
   "id": "3626e7d0-a88b-4633-97e1-d98a7f10765c",
   "metadata": {},
   "outputs": [],
   "source": [
    "#non_dominated_paths_u(10)"
   ]
  },
  {
   "cell_type": "markdown",
   "id": "9c34e777-7349-44bf-85e5-3aa5b3ffbfc3",
   "metadata": {},
   "source": [
    "#### for every customer we build all LA arcs using previous funcitons"
   ]
  },
  {
   "cell_type": "code",
   "execution_count": 46,
   "id": "03a071db-f3c9-46c2-a573-2b558f10a78b",
   "metadata": {},
   "outputs": [
    {
     "name": "stdout",
     "output_type": "stream",
     "text": [
      "Time: 0.06435058299999998 seconds\n",
      "Memory: 0.0 bytes\n"
     ]
    },
    {
     "data": {
      "text/plain": [
       "778-element Vector{Path}:\n",
       " Path(1, [1], Int64[], 10.0f0, 161.0f0)\n",
       " Path(2, [2], Int64[], 7.0f0, 50.0f0)\n",
       " Path(3, [2, 21], Int64[], 18.0f0, 70.4f0)\n",
       " Path(4, [2, 21, 40, 37], Int64[], 35.0f0, 134.0f0)\n",
       " Path(5, [2, 21, 22, 37], Int64[], 44.0f0, 134.0f0)\n",
       " Path(6, [2, 21, 41, 37], Int64[], 31.0f0, 134.0f0)\n",
       " Path(7, [2, 13], Int64[], 30.0f0, 159.0f0)\n",
       " Path(8, [2, 21, 41], Int64[], 23.0f0, 97.0f0)\n",
       " Path(9, [2, 40], Int64[], 16.0f0, 85.0f0)\n",
       " Path(10, [2, 21, 22], Int64[], 36.0f0, 97.0f0)\n",
       " Path(11, [2, 21, 40, 13], Int64[], 50.0f0, 159.0f0)\n",
       " Path(12, [2, 21, 22, 13], Int64[], 59.0f0, 159.0f0)\n",
       " Path(13, [2, 21, 41, 13], Int64[], 46.0f0, 159.0f0)\n",
       " ⋮\n",
       " Path(767, [49, 1], Int64[], 40.0f0, 161.0f0)\n",
       " Path(768, [49, 17], Int64[], 32.0f0, 157.0f0)\n",
       " Path(769, [49, 13], Int64[], 53.0f0, 167.2f0)\n",
       " Path(770, [49], Int64[], 30.0f0, 108.0f0)\n",
       " Path(771, [49, 32], Int64[], 53.0f0, 147.0f0)\n",
       " Path(772, [50, 48], Int64[], 49.0f0, 168.3f0)\n",
       " Path(773, [50, 25], Int64[], 19.0f0, 172.0f0)\n",
       " Path(774, [50, 24], Int64[], 16.0f0, 155.6f0)\n",
       " Path(775, [50, 1], Int64[], 23.0f0, 161.0f0)\n",
       " Path(776, [50, 24, 25], Int64[], 22.0f0, 180.6f0)\n",
       " Path(777, [50, 13], Int64[], 36.0f0, 161.8f0)\n",
       " Path(778, [50], Int64[], 13.0f0, 124.0f0)"
      ]
     },
     "execution_count": 46,
     "metadata": {},
     "output_type": "execute_result"
    }
   ],
   "source": [
    "total_time = 0\n",
    "total_memory = 0\n",
    "empty!(all_paths)\n",
    "for i in all_locations[1:end-1]\n",
    "    i.paths, time, allocations, memory = @timed non_dominated_paths_u(i.id) \n",
    "    total_time+=time\n",
    "    total_memory += memory\n",
    "end\n",
    "\n",
    "println(\"Time: \", total_time, \" seconds\")\n",
    "println(\"Memory: \", total_memory, \" bytes\")\n",
    "all_paths"
   ]
  },
  {
   "cell_type": "markdown",
   "id": "b34fdcfd-76d1-44a5-a664-2a3afd2c37e5",
   "metadata": {},
   "source": [
    "- check_edge is a function given a list, and two customers as input, it checks that the edge of those two customers exists "
   ]
  },
  {
   "cell_type": "code",
   "execution_count": 47,
   "id": "f6a7ddea-34d3-4b32-8f92-b27dc2494adb",
   "metadata": {},
   "outputs": [
    {
     "name": "stdout",
     "output_type": "stream",
     "text": [
      "[42.0, 51.0]\n"
     ]
    }
   ],
   "source": [
    "for u in all_locations\n",
    "    if u.time_window[1] < distance_3(all_locations[end].id, u.id)\n",
    "        println(\" time window is bellow reality \", u.id, \" \", distance_3(all_locations[end].id, u.id) , \" \", u.time_window[1])\n",
    "    end\n",
    "end\n",
    "println(all_locations[36].W_T)"
   ]
  },
  {
   "cell_type": "code",
   "execution_count": 48,
   "id": "8ea89919-b07a-4c80-8451-72ba5566f82e",
   "metadata": {
    "scrolled": true
   },
   "outputs": [
    {
     "data": {
      "text/plain": [
       "set_contains_all (generic function with 1 method)"
      ]
     },
     "execution_count": 48,
     "metadata": {},
     "output_type": "execute_result"
    }
   ],
   "source": [
    "function set_contains_all(p1::Vector{Int}, p2::Vector{Int})\n",
    "    if length(p1) > length(p2)\n",
    "        return false\n",
    "    end\n",
    "    for p in p1\n",
    "        contains = false\n",
    "        for t in p2\n",
    "            if p == t\n",
    "                contains = true\n",
    "                break\n",
    "            end\n",
    "        end\n",
    "        if !contains\n",
    "            return false\n",
    "        end\n",
    "    end\n",
    "    return true\n",
    "end"
   ]
  },
  {
   "cell_type": "code",
   "execution_count": 49,
   "id": "55a41d6e-7b39-43ec-8f87-115a40c0ef43",
   "metadata": {},
   "outputs": [
    {
     "data": {
      "text/plain": [
       "check_edge (generic function with 1 method)"
      ]
     },
     "execution_count": 49,
     "metadata": {},
     "output_type": "execute_result"
    }
   ],
   "source": [
    "function check_edge(w::Int, v::Int, p::Vector{Int})::Bool\n",
    "    # check to see if w is followd by v, i.e.,  a_w,v,r\n",
    "    for i in 1:(length(p)-1)\n",
    "        if p[i] == w && p[i+1] == v\n",
    "            return true\n",
    "        end\n",
    "    end\n",
    "    return false\n",
    "end"
   ]
  },
  {
   "cell_type": "code",
   "execution_count": 50,
   "id": "a3c4dcfb-2978-4a23-83e2-c6e1803c16c2",
   "metadata": {},
   "outputs": [
    {
     "data": {
      "text/plain": [
       "split_until_v (generic function with 1 method)"
      ]
     },
     "execution_count": 50,
     "metadata": {},
     "output_type": "execute_result"
    }
   ],
   "source": [
    "function split_until_v(vec::Vector{Int}, u::Int)\n",
    "    # Find the first occurrence of u\n",
    "    index = findfirst(==(u), vec)\n",
    "    \n",
    "    if index !== nothing\n",
    "        if index < length(vec)\n",
    "        # Return the sublist from the first element until `u`\n",
    "            return vec[1:index], vec[index+1]\n",
    "        else\n",
    "            return vec, u\n",
    "        end\n",
    "    else\n",
    "        # Return the entire list if `u` is not found\n",
    "        return vec , vec[end]\n",
    "    end\n",
    "end\n"
   ]
  },
  {
   "cell_type": "markdown",
   "id": "5db419bc-d6fa-449f-8756-d2b1760a23f5",
   "metadata": {},
   "source": [
    "#### Optimization Model\n",
    "- is a struct that stores information about the model that we solve.\n",
    "- dual variables, constraints and the model. "
   ]
  },
  {
   "cell_type": "code",
   "execution_count": 51,
   "id": "13a34407-6d93-426d-8dac-6abb88e64a12",
   "metadata": {},
   "outputs": [],
   "source": [
    "\n",
    "mutable struct OptimizationModel\n",
    "    model::JuMP.Model               \n",
    "    objective::Float64\n",
    "    vehicle::Any\n",
    "    load::Dict{Int,Any}\n",
    "    time::Dict{Int,Any}\n",
    "    x::Dict{Tuple{Int, Int}, Any}\n",
    "    y::Dict{Int, Any}\n",
    "    z_d::Dict{Tuple{Int, Int}, Any}\n",
    "    z_t::Dict{Tuple{Int, Int}, Any}\n",
    "    c8a::Dict{Tuple{Int,Int,Int,Int}, Any}\n",
    "    c8b::Dict{Tuple{Int,Int,Int}, Any}\n",
    "    c6h::Dict{Tuple{Int,Int,Int}, Any}       \n",
    "    c6i::Dict{Tuple{Int,Int}, Any}\n",
    "    c6j::Dict{Int, Any}\n",
    "    c6k::Dict{Tuple{Int,Int}, Any}\n",
    "    c6l::Dict{Int, Any}\n",
    "    c6m::Dict{Tuple{Int,Int}, Any}\n",
    "    pi_8a::Dict{Tuple{Int,Int,Int,Int}, Float64}\n",
    "    pi_8b::Dict{Tuple{Int,Int,Int}, Float64}\n",
    "    pi_6j::Dict{Int, Float64}\n",
    "    pi_6l::Dict{Int, Float64}\n",
    "end\n",
    "    "
   ]
  },
  {
   "cell_type": "code",
   "execution_count": null,
   "id": "f1edee46-8525-4a08-aaff-cfd153a9c1a3",
   "metadata": {},
   "outputs": [],
   "source": []
  },
  {
   "cell_type": "markdown",
   "id": "bd76ffea-62be-4a44-a5ab-364c443e2e1c",
   "metadata": {},
   "source": [
    "### Creates the linear relaxation problem "
   ]
  },
  {
   "cell_type": "code",
   "execution_count": 52,
   "id": "166377c1-a26e-46b6-a324-c7b1050745d9",
   "metadata": {},
   "outputs": [
    {
     "data": {
      "text/plain": [
       "create_model! (generic function with 1 method)"
      ]
     },
     "execution_count": 52,
     "metadata": {},
     "output_type": "execute_result"
    }
   ],
   "source": [
    "function create_model!(larcs::Bool, sol::Solution)\n",
    "    model = Model(() -> Gurobi.Optimizer(GRB_ENV))\n",
    "    #model = Model(Gurobi.Optimizer)\n",
    "    set_optimizer_attribute(model, \"OutputFlag\", 0)\n",
    "    # Dictionaries for variables and constraints\n",
    "    load = Dict{Int,JuMP.VariableRef}()\n",
    "    arrival_time = Dict{Int,JuMP.VariableRef}()\n",
    "    x_var = Dict{Tuple{Int, Int}, JuMP.VariableRef}()\n",
    "    y_var = Dict{Int, JuMP.VariableRef}()\n",
    "    z_D = Dict{Tuple{Int, Int}, JuMP.VariableRef}()\n",
    "    z_T = Dict{Tuple{Int, Int}, JuMP.VariableRef}()\n",
    "    c8a = Dict{Tuple{Int, Int, Int, Int}, ConstraintRef}()\n",
    "    c8b = Dict{Tuple{Int, Int, Int}, ConstraintRef}()\n",
    "    c6h =Dict{Tuple{Int, Int, Int}, ConstraintRef}()\n",
    "    c6i =Dict{Tuple{Int, Int}, ConstraintRef}()\n",
    "    c6j = Dict{Int, ConstraintRef}()\n",
    "    c6k = Dict{Tuple{Int,Int}, ConstraintRef}()\n",
    "    c6l = Dict{Int, ConstraintRef}()\n",
    "    c6m = Dict{Tuple{Int,Int}, ConstraintRef}()\n",
    "\n",
    "    \n",
    "    # Minimum number of vehicle needed\n",
    "    \n",
    "    dsum = 0\n",
    "    for i in 1:num_locations\n",
    "        dsum += sol.customers[i].demand\n",
    "    end\n",
    "    min_vehicles = ceil(dsum/vehicle_capacity)\n",
    "    # Variables\n",
    "\n",
    "    for i in 1:num_locations, j in 1:num_locations\n",
    "        x_var[(i, j)] = @variable(model, base_name=\"x_$(i)_$(j)\", lower_bound=0, upper_bound=1)\n",
    "    end\n",
    "    \n",
    "    @variable(model, vehicles >= min_vehicles)\n",
    "    \n",
    "    for i in 1:num_locations\n",
    "        load[i]= @variable(model, base_name=\"load_$(i)\", lower_bound= all_locations[i].demand , upper_bound = vehicle_capacity)\n",
    "        arrival_time[i]= @variable(model, base_name=\"time_$(i)\", lower_bound= all_locations[i].time_window[1] , upper_bound = all_locations[i].time_window[2])\n",
    "    end\n",
    "    \n",
    "\n",
    "    # Objective: Minimize total distance\n",
    "    @objective(model, Min, sum(distance_2(i, j) * x_var[(i, j)] for i in 1:num_locations, j in 1:num_locations if i != j))\n",
    "\n",
    "    # Constraints\n",
    "    # A route must leave a customer exactly once.\n",
    "\n",
    "    for i in 1:(num_locations - 1)  # Exclude the depot\n",
    "        @constraint(model, sum(x_var[(i, j)] for j in 1:num_locations if i != j) == 1)\n",
    "    end\n",
    "\n",
    "    # A route must arrive at a customer exactly once.\n",
    "\n",
    "    for j in 1:(num_locations - 1)  # Exclude the depot\n",
    "        @constraint(model, sum(x_var[(i, j)] for i in 1:num_locations if i != j) == 1)\n",
    "    end\n",
    "\n",
    "    \n",
    "    # Capacity constraints\n",
    "    \n",
    "    for u in 1:(num_locations-1), v in 1:num_locations\n",
    "        if v != u\n",
    "            demand_u = sol.customers[u].demand\n",
    "            @constraint(model, load[u] >= load[v] + demand_u - (vehicle_capacity + demand_u)*(1 - x_var[(v, u)]))\n",
    "        end\n",
    "    end\n",
    "    # Respect time windows\n",
    "    for i in 1:(num_locations - 1), j in 1:num_locations\n",
    "        if i != j\n",
    "            upper_time_i = sol.customers[i].time_window[2]\n",
    "            dist_ij = distance_3(i, j)\n",
    "            @constraint(model, arrival_time[j] >= arrival_time[i] + dist_ij - (dist_ij + upper_time_i)*(1 - x_var[(i, j)]))\n",
    "        end\n",
    "    end\n",
    "   \n",
    "    # bounds\n",
    "    for i in 1:num_locations\n",
    "        minim = distance_3(sol.customers[end].id, i)\n",
    "        minim = ceil(minim)\n",
    "        set_lower_bound(arrival_time[i], max(sol.customers[i].time_window[1], minim))  # Earliest arrival\n",
    "        set_upper_bound( arrival_time[i], sol.customers[i].time_window[2]) # Latest arrival\n",
    "    end\n",
    "\n",
    "    @constraint(model, sum(x_var[(num_locations, i)] for i in 1:(num_locations-1)) == vehicles)\n",
    "\n",
    "    ####################################################################################################\n",
    "    ##############################      NEW COMPACT FORMULATION       ##################################\n",
    "    ####################################################################################################\n",
    "   \n",
    "    \n",
    " \n",
    "    for p in sol.paths\n",
    "        i =p.id\n",
    "        y_var[i] = @variable(model, base_name=\"y_$(i)\", lower_bound=0, upper_bound=1)\n",
    "    end\n",
    "\n",
    "    \n",
    "    ####################################################################################################\n",
    "    ###########  If not MILP we do the following constraints. with constraints 8a, 8b. #################\n",
    "    ####################################################################################################\n",
    "\n",
    "    # LA constraints\n",
    "\n",
    "    for i in 1:(num_locations-1)\n",
    "        pp = sol.customers[i].paths\n",
    "        @constraint(model, sum(y_var[r.id] for r in pp) == 1)\n",
    "    end\n",
    "\n",
    "    for i in 1:(num_locations-1)\n",
    "        sort!(sol.customers[i].paths, by = element -> length(element.path))\n",
    "    end\n",
    "     \n",
    "    for u in 1:(num_locations-1)\n",
    "        for k in 1:length(sol.customers[u].N) # for every size of neighborhood\n",
    "            k_neigh = sol.customers[u].N[1:k] # this is the new neighborhood\n",
    "            k_neigh_u = [u]\n",
    "            append!(k_neigh_u, k_neigh)\n",
    "                \n",
    "            for w in k_neigh_u\n",
    "                for v in k_neigh\n",
    "                    if w == v\n",
    "                        continue\n",
    "                    end\n",
    "                    index = []\n",
    "                    for r in sol.customers[u].paths \n",
    "                        partial, gg = split_until_v(r.path, v)\n",
    "                        if set_contains_all(partial, k_neigh_u) && check_edge(w,v,partial)\n",
    "                            push!(index,r.id)\n",
    "                        end\n",
    "                    end\n",
    "                    if !isempty(index)\n",
    "                        c8a[(u,w,v,k)] = @constraint(model,0.0001*k + x_var[(w,v)] >= sum(y_var[id] for id in index))#c8a\n",
    "                    end\n",
    "                end\n",
    "            end\n",
    "        end\n",
    "    end\n",
    "    ####################################################################################################\n",
    "\n",
    "    for u in 1:(num_locations-1)\n",
    "        for k in 1:length(sol.customers[u].N)\n",
    "            k_neigh = sol.customers[u].N[1:k] # this is the new neighborhood\n",
    "            k_neigh_u = [u]\n",
    "                \n",
    "            append!(k_neigh_u, k_neigh)\n",
    "            k_complement = [j for j in 1:num_locations if !(j in k_neigh_u)]\n",
    "            for w in k_neigh_u \n",
    "                index = []\n",
    "                for r in sol.customers[u].paths\n",
    "                    if w == r.path[end]  && set_contains_all(r.path, k_neigh_u)\n",
    "                        push!(index,r.id)\n",
    "                    else\n",
    "                        partial, v = split_until_v(r.path, w)\n",
    "                        if set_contains_all(partial,k_neigh_u) && !(v in k_neigh_u)\n",
    "                            #println(\" neig_ku>> \",k_neigh_u, \" path >>> \" ,r.path, \" partial>>  \" , partial)\n",
    "                            push!(index,r.id) #partial, v = split_until_v(r.path, w)\n",
    "                        end\n",
    "                    end\n",
    "                end\n",
    "                if !isempty(index)\n",
    "                    c8b[(u,w,k)] = @constraint(model, 0.0001*k + sum(x_var[(w,v)] for v in k_complement) >= sum(y_var[rr] for rr in index)) #c8b\n",
    "                end\n",
    "            end\n",
    "        end\n",
    "    end\n",
    "    # Demand constraints\n",
    "    ####################################################################################################\n",
    "    # Create an empty dictionary to store variables\n",
    "\n",
    "     \n",
    "    for node in sol.demand_nodes\n",
    "        i = node.id\n",
    "        for j in node.forward\n",
    "            z_D[(i, j)] = @variable(model, base_name=\"z_d$(i)_$(j)\", lower_bound=0, upper_bound=1)\n",
    "        end\n",
    "    end\n",
    "\n",
    "    for i in 1:length(sol.demand_nodes) ## no depot here \n",
    "        c6j[i] = @constraint(model, sum(z_D[(i,j)] for j in sol.demand_nodes[i].forward) == \n",
    "            sum(z_D[(j,i)] for j in sol.demand_nodes[i].backward)) # c6j\n",
    "    end\n",
    "\n",
    "    for u in 1:(num_locations)\n",
    "        for v in 1:(num_locations)\n",
    "            if u == v\n",
    "                continue\n",
    "            end\n",
    "            c6k[(u,v)] = @constraint(model, x_var[(u, v)] == \n",
    "                sum(z_D[(i, j)] for node1 in sol.customers[u].B_D, j in node1.forward, i = node1.id if sol.demand_nodes[j].customer == v))\n",
    "        end\n",
    "    end\n",
    "\n",
    "\n",
    "    ####################################################################################################\n",
    "\n",
    "    ## Flow constraints for all nodes in the time graph . \n",
    "\n",
    "    for node in sol.time_nodes\n",
    "        i = node.id\n",
    "        for j in node.forward\n",
    "            z_T[(i, j)] = @variable(model, base_name=\"z_t$(i)_$(j)\", lower_bound=0, upper_bound=1)\n",
    "        end\n",
    "    end\n",
    "    \n",
    "    # Flow conservation for time nodes\n",
    "    for i in 1:length(sol.time_nodes) ## no depot here \n",
    "        c6l[i] = @constraint(model, sum(z_T[(i, j)] for j in sol.time_nodes[i].forward ) == \n",
    "               sum(z_T[(j, i)] for j in sol.time_nodes[i].backward ) ) # c6l\n",
    "    end\n",
    "\n",
    "        # Time consistency constraints\n",
    "    for u in 1:num_locations\n",
    "        for v in 1:num_locations\n",
    "            if u == v\n",
    "                continue\n",
    "            end\n",
    "            c6m[(u,v)]= @constraint(model, x_var[(u, v)] == \n",
    "                sum(z_T[(i, j)] for node1 in sol.customers[u].B_T, j in node1.forward, i = node1.id if sol.time_nodes[j].customer == v))\n",
    "        end\n",
    "    end \n",
    "\n",
    "    ##########################################################################################################\n",
    "\n",
    "    return OptimizationModel(model, 0, vehicles,load, arrival_time, x_var,y_var, z_D,z_T,c8a,c8b,c6h,c6i, c6j, c6k, c6l, c6m,Dict(),Dict(),Dict(),Dict())\n",
    "            #return x, y, z_D, z_T, constraints, constraints_2, model\n",
    "end"
   ]
  },
  {
   "cell_type": "markdown",
   "id": "67e89ccb-0305-47c2-b718-b66853262d8e",
   "metadata": {},
   "source": [
    "### Creates the Milp for the final solution"
   ]
  },
  {
   "cell_type": "code",
   "execution_count": 53,
   "id": "6e728095-0149-4c03-ba59-fa96ffd80de4",
   "metadata": {},
   "outputs": [
    {
     "data": {
      "text/plain": [
       "create_MILP! (generic function with 1 method)"
      ]
     },
     "execution_count": 53,
     "metadata": {},
     "output_type": "execute_result"
    }
   ],
   "source": [
    "function create_MILP!(sol::Solution)\n",
    "    model = Model(() -> Gurobi.Optimizer(GRB_ENV))\n",
    "    #model = Model(Gurobi.Optimizer)\n",
    "    set_optimizer_attribute(model, \"OutputFlag\", 1)\n",
    "    # Dictionaries for variables and constraints\n",
    "    load = Dict{Int,JuMP.VariableRef}()\n",
    "    arrival_time = Dict{Int,JuMP.VariableRef}()\n",
    "    x_var = Dict{Tuple{Int, Int}, JuMP.VariableRef}()\n",
    "    y_var = Dict{Int, JuMP.VariableRef}()\n",
    "    z_D = Dict{Tuple{Int, Int}, JuMP.VariableRef}()\n",
    "    z_T = Dict{Tuple{Int, Int}, JuMP.VariableRef}()\n",
    "    c8a = Dict{Tuple{Int, Int, Int, Int}, ConstraintRef}()\n",
    "    c8b = Dict{Tuple{Int, Int, Int}, ConstraintRef}()\n",
    "    c6h =Dict{Tuple{Int, Int, Int}, ConstraintRef}()\n",
    "    c6i =Dict{Tuple{Int, Int}, ConstraintRef}()\n",
    "    c6j = Dict{Int, ConstraintRef}()\n",
    "    c6k = Dict{Tuple{Int,Int}, ConstraintRef}()\n",
    "    c6l = Dict{Int, ConstraintRef}()\n",
    "    c6m = Dict{Tuple{Int,Int}, ConstraintRef}()\n",
    "\n",
    "    \n",
    "    # Minimum number of vehicle needed\n",
    "    \n",
    "    dsum = 0\n",
    "    for i in 1:num_locations\n",
    "        dsum += sol.customers[i].demand\n",
    "    end\n",
    "    min_vehicles = ceil(dsum/vehicle_capacity)\n",
    "    # Variables\n",
    "   \n",
    "    @variable(model, x_var[i=1:num_locations, j=1:num_locations; i != j], Bin) # Binary decision: 1 if travel from i to j\n",
    "    @variable(model, vehicles >= min_vehicles, Int)\n",
    "    MOI.set(model, Gurobi.VariableAttribute(\"BranchPriority\"), vehicles, 10)\n",
    "    \n",
    "    for i in 1:num_locations\n",
    "        load[i]= @variable(model, base_name=\"load_$(i)\", lower_bound= all_locations[i].demand , upper_bound = vehicle_capacity)\n",
    "        arrival_time[i]= @variable(model, base_name=\"time_$(i)\", lower_bound= all_locations[i].time_window[1] , upper_bound = all_locations[i].time_window[2])\n",
    "    end\n",
    "    \n",
    "\n",
    "    # Objective: Minimize total distance\n",
    "    @objective(model, Min, sum(distance_2(i, j) * x_var[(i, j)] for i in 1:num_locations, j in 1:num_locations if i != j))\n",
    "\n",
    "    # Constraints\n",
    "    # A route must leave a customer exactly once.\n",
    "\n",
    "    for i in 1:(num_locations - 1)  # Exclude the depot\n",
    "        @constraint(model, sum(x_var[(i, j)] for j in 1:num_locations if i != j) == 1)\n",
    "    end\n",
    "\n",
    "    # A route must arrive at a customer exactly once.\n",
    "\n",
    "    for j in 1:(num_locations - 1)  # Exclude the depot\n",
    "        @constraint(model, sum(x_var[(i, j)] for i in 1:num_locations if i != j) == 1)\n",
    "    end\n",
    "\n",
    "    \n",
    "    # Capacity constraints\n",
    "    \n",
    "    for u in 1:(num_locations-1), v in 1:num_locations\n",
    "        if v != u\n",
    "            demand_u = sol.customers[u].demand\n",
    "            @constraint(model, load[u] >= load[v] + demand_u - (vehicle_capacity + demand_u)*(1 - x_var[(v, u)]))\n",
    "        end\n",
    "    end\n",
    "    # Respect time windows\n",
    "    for i in 1:(num_locations - 1), j in 1:num_locations\n",
    "        if i != j\n",
    "            upper_time_i = sol.customers[i].time_window[2]\n",
    "            dist_ij = distance_3(i, j)\n",
    "            @constraint(model, arrival_time[j] >= arrival_time[i] + dist_ij - (dist_ij + upper_time_i)*(1 - x_var[(i, j)]))\n",
    "        end\n",
    "    end\n",
    "   \n",
    "    # bounds\n",
    "    for i in 1:num_locations\n",
    "        minim = distance_3(sol.customers[end].id, i)\n",
    "        minim = ceil(minim)\n",
    "        set_lower_bound(arrival_time[i], max(sol.customers[i].time_window[1], minim))  # Earliest arrival\n",
    "        set_upper_bound( arrival_time[i], sol.customers[i].time_window[2]) # Latest arrival\n",
    "    end\n",
    "\n",
    "    @constraint(model, sum(x_var[(num_locations, i)] for i in 1:(num_locations-1)) == vehicles)\n",
    "\n",
    "    ####################################################################################################\n",
    "    ##############################      NEW COMPACT FORMULATION       ##################################\n",
    "    ####################################################################################################\n",
    "    set_of_variables = []\n",
    "\n",
    "    for u in 1:(num_locations - 1)\n",
    "        temp_set = union(sol.customers[u].N, [u])\n",
    "        for w in temp_set\n",
    "            for v in sol.customers[u].N\n",
    "                if v != w\n",
    "                    for pp in sol.customers[u].paths\n",
    "                        if check_edge(w,v, pp.path)\n",
    "                            push!(set_of_variables, pp.id)\n",
    "                            \n",
    "                        end\n",
    "                    end\n",
    "                end\n",
    "            end\n",
    "        end\n",
    "    end\n",
    "\n",
    "    for u in 1:(num_locations - 1)\n",
    "        temp_set = union(sol.customers[u].N, [u])\n",
    "        for w in temp_set\n",
    "            for pp in sol.customers[u].paths\n",
    "                if pp.path[end] == w\n",
    "                    push!(set_of_variables, pp.id)\n",
    "                end\n",
    "            end\n",
    "        end\n",
    "    end\n",
    "\n",
    "    set_of_variables = unique(set_of_variables)\n",
    "    \n",
    "    for i in set_of_variables\n",
    "        y_var[i] = @variable(model, base_name=\"y_$(i)\", lower_bound=0, upper_bound=1)\n",
    "    end\n",
    "\n",
    "    \n",
    "    ####################################################################################################\n",
    "    ###########  If not MILP we do the following constraints. with constraints 8a, 8b. #################\n",
    "    ####################################################################################################\n",
    "\n",
    "        # LA constraints\n",
    "\n",
    "    for i in 1:(num_locations-1)\n",
    "        @constraint(model, sum(y_var[r] for r in set_of_variables if sol.paths[r].path[1] == i ) == 1)\n",
    "    end\n",
    "\n",
    "    for u in 1:(num_locations - 1)\n",
    "        temp_set = union(sol.customers[u].N, [u])\n",
    "        for w in temp_set\n",
    "            for v in sol.customers[u].N\n",
    "                if v != w\n",
    "                   c6h[(u,w,v)]  = @constraint(model, x_var[(w, v)] >= sum(y_var[pp.id] for pp in sol.customers[u].paths if check_edge(w,v, pp.path)))\n",
    "                end\n",
    "            end\n",
    "        end\n",
    "    end\n",
    "             \n",
    "    for u in 1:(num_locations - 1)\n",
    "        temp_set = union(sol.customers[u].N, [u])\n",
    "        for w in temp_set\n",
    "            c6i[(u,w)] = @constraint(model, sum(x_var[(w, v)] for v in 1:num_locations if !(v in temp_set)) \n",
    "                >= sum(y_var[pp.id] for pp in sol.customers[u].paths if pp.path[end] == w))\n",
    "        end\n",
    "    end\n",
    "\n",
    "    # Demand constraints\n",
    "    ####################################################################################################\n",
    "    # Create an empty dictionary to store variables\n",
    "\n",
    "     \n",
    "    for node in sol.demand_nodes\n",
    "        i = node.id\n",
    "        for j in node.forward\n",
    "            z_D[(i, j)] = @variable(model, base_name=\"z_d$(i)_$(j)\", lower_bound=0, upper_bound=1)\n",
    "        end\n",
    "    end\n",
    "\n",
    "    for i in 1:length(sol.demand_nodes) ## no depot here \n",
    "        c6j[i] = @constraint(model, sum(z_D[(i,j)] for j in sol.demand_nodes[i].forward) == \n",
    "            sum(z_D[(j,i)] for j in sol.demand_nodes[i].backward)) # c6j\n",
    "    end\n",
    "\n",
    "    for u in 1:(num_locations)\n",
    "        for v in 1:(num_locations)\n",
    "            if u == v\n",
    "                continue\n",
    "            end\n",
    "            c6k[(u,v)] = @constraint(model, x_var[(u, v)] == \n",
    "                sum(z_D[(i, j)] for node1 in sol.customers[u].B_D, j in node1.forward, i = node1.id if sol.demand_nodes[j].customer == v))\n",
    "        end\n",
    "    end\n",
    "\n",
    "\n",
    "        ####################################################################################################\n",
    "\n",
    "    ## Flow constraints for all nodes in the time graph . \n",
    "\n",
    "    for node in sol.time_nodes\n",
    "        i = node.id\n",
    "        for j in node.forward\n",
    "            z_T[(i, j)] = @variable(model, base_name=\"z_t$(i)_$(j)\", lower_bound=0, upper_bound=1)\n",
    "        end\n",
    "    end\n",
    "    \n",
    "        # Flow conservation for time nodes\n",
    "    for i in 1:length(sol.time_nodes) ## no depot here \n",
    "        c6l[i] = @constraint(model, sum(z_T[(i, j)] for j in sol.time_nodes[i].forward ) == \n",
    "            sum(z_T[(j, i)] for j in sol.time_nodes[i].backward ) ) # c6l\n",
    "    end\n",
    "\n",
    "    # Time consistency constraints\n",
    "    for u in 1:num_locations\n",
    "        for v in 1:num_locations\n",
    "            if u == v\n",
    "                continue\n",
    "            end\n",
    "            c6m[(u,v)]= @constraint(model, x_var[(u, v)] == \n",
    "                sum(z_T[(i, j)] for node1 in sol.customers[u].B_T, j in node1.forward, i = node1.id if sol.time_nodes[j].customer == v))\n",
    "        end\n",
    "    end \n",
    "    ##########################################################################################################\n",
    "        \n",
    "    return model\n",
    "end"
   ]
  },
  {
   "cell_type": "markdown",
   "id": "4d1b380d-1638-4f7e-b206-9ce59457cbe5",
   "metadata": {},
   "source": [
    "## Model MILP "
   ]
  },
  {
   "cell_type": "code",
   "execution_count": 54,
   "id": "7a9b2b86-f164-4558-8f33-007278a0e3b0",
   "metadata": {},
   "outputs": [],
   "source": [
    "# debugging stuff\n",
    "#sol = Solution(all_demand_nodes, all_time_nodes, all_locations, all_paths)\n",
    "#model_01 = create_model!(false, sol)\n",
    "#solve!(model_01)\n",
    "#model_01.objective"
   ]
  },
  {
   "cell_type": "code",
   "execution_count": null,
   "id": "99de95c7-68ef-44fd-a143-df4c9e8ce1f8",
   "metadata": {},
   "outputs": [],
   "source": [
    "\n",
    "           "
   ]
  },
  {
   "cell_type": "code",
   "execution_count": 55,
   "id": "d40c5573-7b00-425a-8f02-703d36d49396",
   "metadata": {},
   "outputs": [],
   "source": [
    "#for i in 1:num_locations\n",
    "#    println(all_locations[i].W_T)\n",
    "#end"
   ]
  },
  {
   "cell_type": "markdown",
   "id": "2b595ac7-52b8-4a0f-a987-b3200124adc5",
   "metadata": {},
   "source": [
    "### function that updates the demand flow variables and constraints in the model "
   ]
  },
  {
   "cell_type": "code",
   "execution_count": 56,
   "id": "8495494c-1fb1-40d1-8e4d-c3f90bbecd08",
   "metadata": {},
   "outputs": [
    {
     "data": {
      "text/plain": [
       "update_model_demand! (generic function with 1 method)"
      ]
     },
     "execution_count": 56,
     "metadata": {},
     "output_type": "execute_result"
    }
   ],
   "source": [
    "function update_model_demand!(lp::OptimizationModel, sol_1::Solution, sol::Solution)\n",
    "    #################################################################\n",
    "    ##########  create node variables if they do not exist   ########\n",
    "    #################################################################\n",
    "    # Clear variables and constraints from previous solutions.\n",
    "    for u in 1:num_locations\n",
    "        for node in sol_1.customers[u].B_D  # B_T -> B_D\n",
    "            i = node.id\n",
    "            for j in node.forward\n",
    "                v = sol_1.demand_nodes[j].customer  # time_nodes -> demand_nodes\n",
    "                JuMP.set_normalized_coefficient(lp.c6j[i], lp.z_d[(i,j)], 0)  # c6l -> c6j, z_t -> z_d\n",
    "                JuMP.set_normalized_coefficient(lp.c6j[j], lp.z_d[(i,j)], 0)  # c6l -> c6j, z_t -> z_d\n",
    "                if u != v\n",
    "                    JuMP.set_normalized_coefficient(lp.c6k[(u,v)], lp.z_d[(i,j)], 0)  # c6m -> c6k, z_t -> z_d\n",
    "                end\n",
    "            end\n",
    "        end\n",
    "    end\n",
    "\n",
    "    # Create constraints.\n",
    "    for u in 1:num_locations\n",
    "        for node in sol.customers[u].B_D  # B_T -> B_D\n",
    "            i = node.id\n",
    "            for j in node.forward\n",
    "                if !haskey(lp.z_d, (i,j))  # z_t -> z_d\n",
    "                    lp.z_d[(i, j)] = @variable(lp.model, base_name=\"z_d$(i)_$(j)\", lower_bound=0, upper_bound=1)\n",
    "                end\n",
    "                if !haskey(lp.c6j, i)  # c6l -> c6j\n",
    "                    lp.c6j[i] = @constraint(lp.model, 0 == 0)\n",
    "                end\n",
    "                if !haskey(lp.c6j, j)  # c6l -> c6j\n",
    "                    lp.c6j[j] = @constraint(lp.model, 0 == 0)\n",
    "                end\n",
    "                v = sol.demand_nodes[j].customer  # time_nodes -> demand_nodes\n",
    "                JuMP.set_normalized_coefficient(lp.c6j[i], lp.z_d[(i,j)], 1)  # c6l -> c6j, z_t -> z_d\n",
    "                JuMP.set_normalized_coefficient(lp.c6j[j], lp.z_d[(i,j)], -1)  # c6l -> c6j, z_t -> z_d\n",
    "                if u != v\n",
    "                    JuMP.set_normalized_coefficient(lp.c6k[(u,v)], lp.z_d[(i,j)], -1)  # c6m -> c6k, z_t -> z_d\n",
    "                end\n",
    "            end\n",
    "        end\n",
    "    end\n",
    "end"
   ]
  },
  {
   "cell_type": "code",
   "execution_count": 57,
   "id": "bb165564-87cf-4f7c-90dc-3ca916cd831a",
   "metadata": {
    "scrolled": true
   },
   "outputs": [
    {
     "data": {
      "text/plain": [
       "update_model_time! (generic function with 1 method)"
      ]
     },
     "execution_count": 57,
     "metadata": {},
     "output_type": "execute_result"
    }
   ],
   "source": [
    "function update_model_time!(lp::OptimizationModel, sol_1::Solution, sol::Solution)\n",
    "\n",
    "    #################################################################\n",
    "    ##########  create node variables if they do not exist   ########\n",
    "    #################################################################\n",
    "    #clear variables and constraints from previous solutions. \n",
    "    for u in 1:num_locations\n",
    "        for node in sol_1.customers[u].B_T\n",
    "            i = node.id\n",
    "            for j in node.forward\n",
    "                v = sol_1.time_nodes[j].customer\n",
    "                JuMP.set_normalized_coefficient(lp.c6l[i], lp.z_t[(i,j)], 0)\n",
    "                JuMP.set_normalized_coefficient(lp.c6l[j], lp.z_t[(i,j)], 0)\n",
    "                if u != v\n",
    "                    JuMP.set_normalized_coefficient(lp.c6m[(u,v)], lp.z_t[(i,j)], 0) ## Eliminate all previous variables from these constraints.\n",
    "                end\n",
    "            end\n",
    "        end\n",
    "    end\n",
    "\n",
    "    # create constraints. \n",
    "    for u in 1:num_locations\n",
    "        for node in sol.customers[u].B_T\n",
    "            i = node.id\n",
    "            for j in node.forward\n",
    "                if !haskey(lp.z_t, (i,j))\n",
    "                    lp.z_t[(i, j)] = @variable(lp.model, base_name=\"z_t$(i)_$(j)\", lower_bound=0, upper_bound=1)\n",
    "                end\n",
    "                if !haskey(lp.c6l,i)\n",
    "                    lp.c6l[i] = @constraint(lp.model, 0==0) # \n",
    "                end\n",
    "                if !haskey(lp.c6l,j)\n",
    "                    lp.c6l[j] = @constraint(lp.model, 0==0) # \n",
    "                end\n",
    "                v = sol.time_nodes[j].customer\n",
    "                JuMP.set_normalized_coefficient(lp.c6l[i], lp.z_t[(i,j)], 1)\n",
    "                JuMP.set_normalized_coefficient(lp.c6l[j], lp.z_t[(i,j)], -1)\n",
    "                if u != v\n",
    "                    JuMP.set_normalized_coefficient(lp.c6m[(u,v)], lp.z_t[(i,j)], -1)\n",
    "                end\n",
    "            end\n",
    "        end\n",
    "    end\n",
    "end"
   ]
  },
  {
   "cell_type": "markdown",
   "id": "6a697ef5-6fc9-458d-9dc0-4b73d794f78a",
   "metadata": {},
   "source": [
    "## Function that updates the la arcs in the model"
   ]
  },
  {
   "cell_type": "code",
   "execution_count": 58,
   "id": "368de26f-823c-4ac7-88f4-5cf0e1656acd",
   "metadata": {},
   "outputs": [
    {
     "data": {
      "text/plain": [
       "update_model_la! (generic function with 1 method)"
      ]
     },
     "execution_count": 58,
     "metadata": {},
     "output_type": "execute_result"
    }
   ],
   "source": [
    "function update_model_la!(lp::OptimizationModel, sol_1::Solution, sol::Solution)\n",
    "    ## sol_1 is the previous solution\n",
    "    ####################################################################################################\n",
    "    ###################################  constraints 8a   ##############################################\n",
    "    ####################################################################################################\n",
    "    for u in 1:(num_locations-1)\n",
    "        if length(sol.customers[u].N) < length(sol_1.customers[u].N)\n",
    "            ####################### contracting sets #################################################\n",
    "            for k in (length(sol.customers[u].N)+1):length(sol_1.customers[u].N) # for every size of neighborhood\n",
    "                k_neigh = sol_1.customers[u].N[1:k] # this is the new neighborhood\n",
    "                k_neigh_u = [u]\n",
    "                append!(k_neigh_u, k_neigh)\n",
    "                \n",
    "                for w in k_neigh_u\n",
    "                    for v in k_neigh\n",
    "                        if w == v\n",
    "                            continue\n",
    "                        end\n",
    "                        index = []\n",
    "                        for r in sol_1.customers[u].paths \n",
    "                            partial, gg = split_until_v(r.path, v)\n",
    "                            if set_contains_all(partial, k_neigh_u) && check_edge(w,v,partial)\n",
    "                                push!(index,r.id)\n",
    "                            end\n",
    "                        end\n",
    "                        if !isempty(index)\n",
    "                            JuMP.set_normalized_coefficient(lp.c8a[u,w,v,k], lp.x[(w,v)], 0)\n",
    "                            for i in index\n",
    "                                JuMP.set_normalized_coefficient(lp.c8a[u,w,v,k], lp.y[i], 0)\n",
    "                            end\n",
    "                        end\n",
    "                    end\n",
    "                end\n",
    "            end\n",
    "        elseif length(sol_1.customers[u].N) < length(sol.customers[u].N)\n",
    "            ####################### contracting sets #################################################\n",
    "            for k in (length(sol_1.customers[u].N)+1):length(sol.customers[u].N) # for every size of neighborhood\n",
    "                k_neigh = sol.customers[u].N[1:k] # this is the new neighborhood\n",
    "                k_neigh_u = [u]\n",
    "                append!(k_neigh_u, k_neigh)\n",
    "                for w in k_neigh_u\n",
    "                    for v in k_neigh\n",
    "                        if w == v\n",
    "                            continue\n",
    "                        end\n",
    "                        index = []\n",
    "                        for r in sol.customers[u].paths \n",
    "                            partial, gg = split_until_v(r.path, v)\n",
    "                            if set_contains_all(partial, k_neigh_u) && check_edge(w,v,partial)\n",
    "                                push!(index,r.id)\n",
    "                            end\n",
    "                        end\n",
    "                        if !isempty(index)\n",
    "                            if !haskey(c8a,(u,w,v,k))\n",
    "                                c8a[(u,w,v,k)] = @constraint(model,0.0001*k + x[(w,v)] >= sum(y[id] for id in index))#c8a\n",
    "                            else\n",
    "                                JuMP.set_normalized_coefficient(lp.c8a[u,w,v,k], lp.x[(w,v)], 1)\n",
    "                                for i in index\n",
    "                                    JuMP.set_normalized_coefficient(lp.c8a[u,w,v,k], lp.y[i], - 1)\n",
    "                                end\n",
    "                            end\n",
    "                        end\n",
    "                    end\n",
    "                end\n",
    "            end\n",
    "        else\n",
    "            continue\n",
    "        end\n",
    "    end\n",
    "    ####################################################################################################\n",
    "    ####################################################################################################\n",
    "    ###################################  constraints 8b   ##############################################\n",
    "    ####################################################################################################\n",
    "\n",
    "    for u in 1:(num_locations-1)\n",
    "        if length(sol.customers[u].N) < length(sol_1.customers[u].N)\n",
    "        ####################### contracting sets #################################################\n",
    "            for k in (length(sol.customers[u].N)+1):length(sol_1.customers[u].N)\n",
    "                k_neigh = sol_1.customers[u].N[1:k] # this is the new neighborhood\n",
    "                k_neigh_u = [u]\n",
    "                \n",
    "                append!(k_neigh_u, k_neigh)\n",
    "                k_complement = [j for j in 1:num_locations if !(j in k_neigh_u)]\n",
    "                for w in k_neigh_u \n",
    "                    index = []\n",
    "                    for r in sol_1.customers[u].paths\n",
    "                        if w == r.path[end]  && set_contains_all(r.path, k_neigh_u)\n",
    "                            push!(index,r.id)\n",
    "                        else\n",
    "                            partial, v = split_until_v(r.path, w)\n",
    "                            if set_contains_all(partial,k_neigh_u) && !(v in k_neigh_u)\n",
    "                                #println(\" neig_ku>> \",k_neigh_u, \" path >>> \" ,r.path, \" partial>>  \" , partial)\n",
    "                                push!(index,r.id) #partial, v = split_until_v(r.path, w)\n",
    "                            end\n",
    "                        end\n",
    "                    end\n",
    "                    if !isempty(index)\n",
    "                        for v in k_complement\n",
    "                            JuMP.set_normalized_coefficient(lp.c8b[u,w,k], lp.x[(w,v)], 0)\n",
    "                        end\n",
    "                        for i in index\n",
    "                            JuMP.set_normalized_coefficient(lp.c8b[u,w,k], lp.y[i], 0)\n",
    "                        end\n",
    "                    end\n",
    "                end\n",
    "            end\n",
    "        elseif length(sol_1.customers[u].N) < length(sol.customers[u].N)\n",
    "            ####################### increasing sets #################################################\n",
    "            for k in (length(sol_1.customers[u].N)+1):length(sol.customers[u].N)\n",
    "                k_neigh = sol.customers[u].N[1:k] # this is the new neighborhood\n",
    "                k_neigh_u = [u]\n",
    "                \n",
    "                append!(k_neigh_u, k_neigh)\n",
    "                k_complement = [j for j in 1:num_locations if !(j in k_neigh_u)]\n",
    "                for w in k_neigh_u \n",
    "                    index = []\n",
    "                    for r in sol.customers[u].paths\n",
    "                        if w == r.path[end]  && set_contains_all(r.path, k_neigh_u)\n",
    "                            push!(index,r.id)\n",
    "                        else\n",
    "                            partial, v = split_until_v(r.path, w)\n",
    "                            if set_contains_all(partial,k_neigh_u) && !(v in k_neigh_u)\n",
    "                                push!(index,r.id)\n",
    "                            end\n",
    "                        end\n",
    "                    end\n",
    "                    if !isempty(index)\n",
    "                        if !haskey(c8b,(u,w,k))\n",
    "                            c8b[(u,w,k)] = @constraint(model, 0.0001*k + sum(x[(w,v)] for v in k_complement) >= sum(y[rr] for rr in index)) #c8b\n",
    "                        else\n",
    "                            for v in k_complement\n",
    "                               JuMP.set_normalized_coefficient(lp.c8b[u,w,k], x[(w,v)], 1)\n",
    "                            end\n",
    "                            for rr in index\n",
    "                                JuMP.set_normalized_coefficient(lp.c8b[u,w,k], y[rr], -1)\n",
    "                            end   \n",
    "                        end\n",
    "                    end\n",
    "                end\n",
    "            end\n",
    "        else\n",
    "            continue\n",
    "        end\n",
    "    end\n",
    "end"
   ]
  },
  {
   "cell_type": "code",
   "execution_count": 59,
   "id": "024a508b-12ca-4898-8a00-9d8f4c665030",
   "metadata": {},
   "outputs": [],
   "source": [
    "#=for (key, var) in model_01.time\n",
    "    time = value(var)\n",
    "    println(\"customer $key, time = $time\")\n",
    "end=#"
   ]
  },
  {
   "cell_type": "code",
   "execution_count": 60,
   "id": "072de5d0-5084-4ccb-adbc-59ba413e9a6c",
   "metadata": {},
   "outputs": [],
   "source": [
    "#=for (key, var) in model_01.z_t\n",
    "    val = value(var)\n",
    "    if val > 0.0001\n",
    "        node1 = sol.time_nodes[key[1]]\n",
    "        node2= sol.time_nodes[key[2]]\n",
    "        if node1.customer == 20 || node2.customer == 20\n",
    "            println(\"customer $key, variable = $val, \", node1.customer,\" -->>\", node2.customer)\n",
    "        end\n",
    "    end\n",
    "end=#"
   ]
  },
  {
   "cell_type": "code",
   "execution_count": 61,
   "id": "c63e2994-b04a-404b-9ac5-ccbf7ce75cfe",
   "metadata": {},
   "outputs": [],
   "source": [
    "#=for i in all_locations\n",
    "    if i.id == 11\n",
    "        for j in i.B_D\n",
    "            println(i.id, \" = [\",j.min_load ,\", \",j.max_load, \"]\")\n",
    "        end\n",
    "    end\n",
    "end=#"
   ]
  },
  {
   "cell_type": "markdown",
   "id": "ac351dcc-d1ae-421b-abf3-ee711f17264c",
   "metadata": {},
   "source": [
    "### Function that converst a linear problem to the binary problem This is not necessary in this implementation. Since we create a model at the end. "
   ]
  },
  {
   "cell_type": "code",
   "execution_count": 62,
   "id": "b60b5435-bbd7-4a76-b721-fc182df37e58",
   "metadata": {},
   "outputs": [
    {
     "data": {
      "text/plain": [
       "convert_model_MILP! (generic function with 1 method)"
      ]
     },
     "execution_count": 62,
     "metadata": {},
     "output_type": "execute_result"
    }
   ],
   "source": [
    "function convert_model_MILP!(MILP::OptimizationModel)\n",
    "    for (key, var) in MILP.x\n",
    "        JuMP.set_binary(var)  # Change to binary\n",
    "    end\n",
    "    ## set the total number of vehicle to be an interger variable with high branching priority\n",
    "    JuMP.set_integer(MILP.vehicle)\n",
    "    MOI.set(MILP.model, Gurobi.VariableAttribute(\"BranchPriority\"), MILP.vehicle, 10)\n",
    "    \n",
    "    ## set the outputflag to 1 to visualize the results from gurobi\n",
    "    set_optimizer_attribute(MILP.model, \"OutputFlag\", 1)\n",
    "end"
   ]
  },
  {
   "cell_type": "code",
   "execution_count": 63,
   "id": "39def6f6-38d2-4dd7-91ca-4e6845bcf934",
   "metadata": {},
   "outputs": [],
   "source": [
    "#convert_model_MILP!(model_01)"
   ]
  },
  {
   "cell_type": "code",
   "execution_count": 64,
   "id": "201ea87e-2003-436a-b9c2-348a8767b329",
   "metadata": {},
   "outputs": [],
   "source": [
    "#optimize!(model_01.model)"
   ]
  },
  {
   "cell_type": "markdown",
   "id": "0bbf189a-c1f0-4a98-a7c3-70dc93a9db7d",
   "metadata": {},
   "source": [
    "### Algorithm 1"
   ]
  },
  {
   "cell_type": "code",
   "execution_count": null,
   "id": "4fe7305b-2e3b-4312-bb4f-ec33a3caba4d",
   "metadata": {},
   "outputs": [],
   "source": []
  },
  {
   "cell_type": "markdown",
   "id": "120e53cc-8a46-4246-bf16-ce32efb6c209",
   "metadata": {},
   "source": [
    "### Function that solves an object of Optimization Model"
   ]
  },
  {
   "cell_type": "code",
   "execution_count": 65,
   "id": "241a4120-da72-4ce2-a4c1-4599fec5a529",
   "metadata": {},
   "outputs": [
    {
     "data": {
      "text/plain": [
       "solve! (generic function with 1 method)"
      ]
     },
     "execution_count": 65,
     "metadata": {},
     "output_type": "execute_result"
    }
   ],
   "source": [
    "function solve!(MILP::OptimizationModel)\n",
    "    # Solve the model\n",
    "    optimize!(MILP.model)\n",
    "\n",
    "    # Store the objective value\n",
    "    if JuMP.termination_status(MILP.model) == MOI.OPTIMAL\n",
    "        MILP.objective = JuMP.objective_value(MILP.model)\n",
    "        #println(\"Objective value: \", MILP.objective)\n",
    "    else\n",
    "        println(\"Solution not optimal. Status: \", JuMP.termination_status(MILP.model))\n",
    "        MILP.objective = NaN  # Indicate no valid objective value\n",
    "    end\n",
    "\n",
    "    # Store dual values for constraints\n",
    "    for (key, constraint) in MILP.c8a\n",
    "        MILP.pi_8a[key] = JuMP.dual(constraint)\n",
    "    end\n",
    "\n",
    "    for (key, constraint) in MILP.c8b\n",
    "        MILP.pi_8b[key] = JuMP.dual(constraint)\n",
    "    end\n",
    "\n",
    "    for (key, constraint) in MILP.c6j\n",
    "        MILP.pi_6j[key] = JuMP.dual(constraint)\n",
    "    end\n",
    "\n",
    "    for (key, constraint) in MILP.c6l\n",
    "        MILP.pi_6l[key] = JuMP.dual(constraint)\n",
    "    end\n",
    "    return MILP  # Return updated object\n",
    "end"
   ]
  },
  {
   "cell_type": "code",
   "execution_count": null,
   "id": "4997ea43-5aa5-4117-8ddc-efb67b03af44",
   "metadata": {},
   "outputs": [],
   "source": []
  },
  {
   "cell_type": "code",
   "execution_count": 66,
   "id": "ac823040-89b3-41ea-bfdd-a5e529fd54c2",
   "metadata": {},
   "outputs": [
    {
     "data": {
      "text/plain": [
       "contract_neighbors! (generic function with 1 method)"
      ]
     },
     "execution_count": 66,
     "metadata": {},
     "output_type": "execute_result"
    }
   ],
   "source": [
    "function contract_neighbors!(MILP::OptimizationModel, sol::Solution)\n",
    "    value = Dict()\n",
    "    max_k_u = Dict()\n",
    "    \n",
    "    for u in 1:num_locations-1\n",
    "        max_k_u[u] = 1\n",
    "        for k in 1:length(sol.customers[u].N)\n",
    "            value[(u,k)] = 0\n",
    "        end\n",
    "    end\n",
    "\n",
    "    for (key, dual) in MILP.pi_8a\n",
    "        key_u, key_w, key_v, key_k = key\n",
    "        if haskey(value, (key_u,key_k))\n",
    "            value[(key_u,key_k)] += dual\n",
    "        end\n",
    "    end\n",
    "   \n",
    "    for (key, dual) in MILP.pi_8b\n",
    "        key_u, key_w, key_k = key\n",
    "        if haskey(value, (key_u,key_k))\n",
    "            value[(key_u,key_k)] += dual\n",
    "        end\n",
    "    end\n",
    "\n",
    "    for u in 1:num_locations-1\n",
    "        max_k = 0\n",
    "        for k in 1:length(sol.customers[u].N)\n",
    "            if value[(u,k)]> 0\n",
    "                if max_k < k\n",
    "                    max_k = k\n",
    "                end\n",
    "            end\n",
    "        end\n",
    "        max_k_u[u] = max_k\n",
    "    end\n",
    "\n",
    "    ## Now we contract the set for all customers\n",
    "    for u in 1:num_locations-1\n",
    "        if max_k_u[u] > 0\n",
    "            sol.customers[u].N = sol.customers[u].N[1:max_k_u[u]]\n",
    "        end\n",
    "    end\n",
    "end\n",
    "    "
   ]
  },
  {
   "cell_type": "code",
   "execution_count": 67,
   "id": "81651258-3e63-4c08-b95f-cab404c2a6b7",
   "metadata": {},
   "outputs": [
    {
     "data": {
      "text/plain": [
       "update_model! (generic function with 1 method)"
      ]
     },
     "execution_count": 67,
     "metadata": {},
     "output_type": "execute_result"
    }
   ],
   "source": [
    "function update_model!(LP::OptimizationModel, sol_1::Solution, sol::Solution)\n",
    "    update_model_demand!(LP, sol_1, sol)\n",
    "\n",
    "    update_model_time!(LP, sol_1, sol)\n",
    "\n",
    "    update_model_la!(LP,sol_1,sol)\n",
    "end"
   ]
  },
  {
   "cell_type": "code",
   "execution_count": 68,
   "id": "0b20b665-6145-4053-99bb-ca7ac1e3a68c",
   "metadata": {},
   "outputs": [
    {
     "data": {
      "text/plain": [
       "compute_middle (generic function with 1 method)"
      ]
     },
     "execution_count": 68,
     "metadata": {},
     "output_type": "execute_result"
    }
   ],
   "source": [
    "function compute_middle(distance::Float32, max1::Float32, min1::Float32, max2::Float32, min2::Float32)\n",
    "    minimum_value = min1 + distance\n",
    "    maximum_value = max1 + distance\n",
    "\n",
    "    minimum_value = min(minimum_value, max2 -1)\n",
    "    maximum_value = min(maximum_value, max2 -1)\n",
    "\n",
    "    if minimum_value == maximum_value\n",
    "        return minimum_value\n",
    "    end\n",
    "    \n",
    "\n",
    "    \n",
    "\n",
    "\n",
    "    \n",
    "end\n"
   ]
  },
  {
   "cell_type": "code",
   "execution_count": 69,
   "id": "df7a97d2-b352-494d-bee7-1bc348762d6a",
   "metadata": {},
   "outputs": [
    {
     "data": {
      "text/plain": [
       "expand_buckets! (generic function with 1 method)"
      ]
     },
     "execution_count": 69,
     "metadata": {},
     "output_type": "execute_result"
    }
   ],
   "source": [
    "function expand_buckets!(MILP::OptimizationModel, sol::Solution)       \n",
    "\n",
    "    for i in 1:length(sol.demand_nodes)\n",
    "        for j in sol.demand_nodes[i].forward\n",
    "            if sol.demand_nodes[i].customer != sol.demand_nodes[j].customer && value(MILP.z_d[(i,j)]) > 0.00001 && j!= length(sol.demand_nodes)\n",
    "                new_term = sol.customers[sol.demand_nodes[j].customer].demand + sol.demand_nodes[i].min_load - 1\n",
    "                new_term = min(sol.demand_nodes[j].max_load - 1, floor(new_term))\n",
    "                new_term = sol.demand_nodes[j].min_load\n",
    "                #println(\" \", sol.demand_nodes[i].max_load, \" \" , sol.demand_nodes[i].min_load, \" ( \", sol.demand_nodes[j].max_load, \" \" , sol.demand_nodes[j].min_load)\n",
    "                if !(new_term in sol.customers[sol.demand_nodes[j].customer].W_D) && new_term <= vehicle_capacity\n",
    "                    push!(sol.customers[sol.demand_nodes[j].customer].W_D, new_term) \n",
    "                end\n",
    "            end\n",
    "        end\n",
    "    end\n",
    "    \n",
    "\n",
    "    for i in 1:length(sol.time_nodes)\n",
    "        for j in sol.time_nodes[i].forward\n",
    "            if sol.time_nodes[i].customer != sol.time_nodes[j].customer && value(MILP.z_t[(i,j)]) > 0.00001 && j!= length(sol.time_nodes)\n",
    "                new_term = sol.time_nodes[i].min_time + distance_3(sol.time_nodes[i].customer,sol.time_nodes[j].customer)\n",
    "                #new_term = floor(new_term)\n",
    "                new_term = min(sol.time_nodes[j].max_time - 1, floor(new_term))\n",
    "                #new_term -= 1\n",
    "                if !(new_term in sol.customers[sol.time_nodes[j].customer].W_T)\n",
    "                    if new_term <= sol.customers[sol.time_nodes[j].customer].time_window[2]\n",
    "                        if new_term  >= sol.customers[sol.time_nodes[j].customer].time_window[1]\n",
    "                            push!(sol.customers[sol.time_nodes[j].customer].W_T, new_term)\n",
    "                        end\n",
    "                    end\n",
    "                end\n",
    "            end\n",
    "         end   \n",
    "    end\n",
    "\n",
    "    # Here we sort all values and remove repeated elements from the list. \n",
    "    for u in 1:length(sol.customers) - 1\n",
    "        sol.customers[u].W_D = sort(unique(sol.customers[u].W_D))\n",
    "        sol.customers[u].W_T = sort(unique(sol.customers[u].W_T))\n",
    "    end\n",
    "    \n",
    "    update_demand_edges(sol)\n",
    "    update_time_edges(sol)\n",
    "end"
   ]
  },
  {
   "cell_type": "code",
   "execution_count": 70,
   "id": "fa1a5c47-433c-44b3-a426-e22c54397de6",
   "metadata": {},
   "outputs": [
    {
     "data": {
      "text/plain": [
       "merge_buckets! (generic function with 1 method)"
      ]
     },
     "execution_count": 70,
     "metadata": {},
     "output_type": "execute_result"
    }
   ],
   "source": [
    "#### we take a milp solution with dual variables info and create a network of arcs\n",
    "function merge_buckets!(MILP::OptimizationModel, sol::Solution)\n",
    "    \n",
    "    for j in 1:length(sol.demand_nodes)-1\n",
    "        for i in sol.demand_nodes[j].forward\n",
    "            if sol.demand_nodes[i].customer == sol.demand_nodes[j].customer && MILP.pi_6j[j] == MILP.pi_6j[i]\n",
    "                push!(sol.customers[sol.demand_nodes[j].customer].W_D_remove, sol.demand_nodes[j].max_load)\n",
    "            end\n",
    "         end   \n",
    "    end\n",
    "    for j in 1:length(sol.time_nodes)-1\n",
    "        for i in sol.time_nodes[j].forward\n",
    "            if sol.time_nodes[i].customer == sol.time_nodes[j].customer && MILP.pi_6l[j] == MILP.pi_6l[i]\n",
    "                push!(sol.customers[sol.time_nodes[j].customer].W_T_remove, sol.time_nodes[j].max_time)\n",
    "            end\n",
    "         end   \n",
    "    end\n",
    "    \n",
    "    for u in 1:length(sol.customers) - 1\n",
    "        sol.customers[u].W_D = [w for w in sol.customers[u].W_D if all(abs(w - r) >= 0.005 for r in sol.customers[u].W_D_remove)]\n",
    "        # Empty W_D_remove after processing\n",
    "        sol.customers[u].W_D_remove = Float64[]\n",
    "    end\n",
    "    \n",
    "    for u in 1:length(sol.customers) - 1\n",
    "        sol.customers[u].W_T = [w for w in sol.customers[u].W_T if all(abs(w - r) >= 0.005 for r in sol.customers[u].W_T_remove)]\n",
    "        # Empty W_D_remove after processing\n",
    "        sol.customers[u].W_T_remove = Float64[]\n",
    "        \n",
    "    end\n",
    "\n",
    "    #update_demand_edges(sol)\n",
    "    #update_time_edges(sol)\n",
    "end\n"
   ]
  },
  {
   "cell_type": "markdown",
   "id": "c6c2efb5-9413-4c36-ada3-57567ee8bd9a",
   "metadata": {},
   "source": [
    "# Algorithm 1,\n",
    "The main algorithm that is used to solve the problem and it times and prints the total time that is used for the solution of the LP problem\n",
    "To find the solution times of the gurobi MILP solution it is necessary to read the result directly from gurobi output, which should be done automatically. "
   ]
  },
  {
   "cell_type": "code",
   "execution_count": 75,
   "id": "e94f7b7d-5c77-4bed-a3a3-4d4a19fc2bc8",
   "metadata": {
    "scrolled": true
   },
   "outputs": [
    {
     "data": {
      "text/plain": [
       "LA_discretization_algorithm! (generic function with 1 method)"
      ]
     },
     "execution_count": 75,
     "metadata": {},
     "output_type": "execute_result"
    }
   ],
   "source": [
    "function LA_discretization_algorithm!()\n",
    "    iter_since_reset = 0\n",
    "    last_lp_val = -2\n",
    "    changed = true\n",
    "    customers =[]\n",
    "    demand_nodes = []\n",
    "    time_nodes =[]\n",
    "\n",
    "    incumbent = Solution(all_demand_nodes, all_time_nodes, all_locations, all_paths)\n",
    "    \n",
    "    solution_2 = deepcopy(incumbent)\n",
    "    LP_model = create_model!(false, solution_2)\n",
    "    start_time_0 = time()\n",
    "    unchanged = 0\n",
    "    LP_time = 0\n",
    "    while changed\n",
    "        if iter_since_reset >= 9\n",
    "            for i in 1:num_locations-1\n",
    "                solution_2.customers[i].N = solution_2.customers[i].LA\n",
    "            end\n",
    "            println(\"variables get rest \")\n",
    "        end\n",
    "        #start_time = time()\n",
    "        ## debugging no need to create model again. \n",
    "        #LP_model = create_model!(false, solution_2)\n",
    "        \n",
    "        #end_time = time()\n",
    "        total_time_nodes = length(solution_2.time_nodes)\n",
    "        total_demand_nodes = length(solution_2.demand_nodes)\n",
    "        #println(\"Time creating model \" ,  (end_time - start_time))\n",
    "        println(\"Solve\")\n",
    "        println(\" Number of time nodes = \", length(solution_2.time_nodes))\n",
    "        println(\" Number of demand nodes = \", length(solution_2.demand_nodes))\n",
    "        #println(\" Number of paths = \", length(solution_2.paths))\n",
    "        start_time = time()\n",
    "        solve!(LP_model) ### time the solving of the LP\n",
    "        end_time = time()\n",
    "        LP_time += (end_time - start_time)\n",
    "        println(\"Time solving model \" ,  (end_time - start_time))\n",
    "        lp_objective = LP_model.objective\n",
    "        println(\"objective = \", lp_objective)\n",
    "        \n",
    "        if lp_objective > last_lp_val + 1\n",
    "            unchanged = 0\n",
    "            solution_1 = deepcopy(solution_2)\n",
    "            ##incumbent = deepcopy(solution_2)\n",
    "            ##merge expand and contract only change\n",
    "            ## the buckets and neighborhood in the solution set\n",
    "            ## and not the model itself\n",
    "            \n",
    "            merge_buckets!(LP_model,solution_2) ## eliminate thresholds\n",
    "            \n",
    "            expand_buckets!(LP_model, solution_2) ## add thresholds and update buckets\n",
    "            contract_neighbors!(LP_model, solution_2) ## reducing the size of N.\n",
    "            timetoupdate = time()\n",
    "            \n",
    "            update_model!(LP_model,solution_1, solution_2)\n",
    "            timetoupdateend = time()\n",
    "            #println(\"time to update model = \", (timetoupdateend - timetoupdate))\n",
    "            last_lp_val = lp_objective\n",
    "            iter_since_reset = 0\n",
    "        else\n",
    "            solution_1 = deepcopy(solution_2)\n",
    "            merge_buckets!(LP_model,solution_2)\n",
    "            expand_buckets!(LP_model, solution_2)\n",
    "            contract_neighbors!(LP_model, solution_2) ## reducing the size of N.\n",
    "            update_model!(LP_model,solution_1, solution_2)\n",
    "        end\n",
    "        if (lp_objective -last_lp_val) <= 0.001\n",
    "            unchanged +=1\n",
    "        else\n",
    "            unchanged = 0\n",
    "        end\n",
    "        unchanged_nodes = total_time_nodes == length(solution_2.time_nodes) && total_demand_nodes == length(solution_2.demand_nodes)\n",
    "        if unchanged >= 10 #|| unchanged_nodes\n",
    "            #convert_model_MILP!(LP_model)\n",
    "            #optimize!(LP_model.model)\n",
    "            changed = false\n",
    "        end\n",
    "        #update_model_test(LP_model,solution_2)\n",
    "        iter_since_reset += 1\n",
    "        last_lp_val = lp_objective\n",
    "    end\n",
    "    end_time_0 = time()\n",
    "    #### print the total time spent solving LPs.\n",
    "    println(\"Total LP time \" ,  LP_time)\n",
    "    milp = create_MILP!(solution_2)\n",
    "    optimize!(milp)\n",
    "end"
   ]
  },
  {
   "cell_type": "code",
   "execution_count": 74,
   "id": "3ba06d7a-fcc8-4127-aa46-24e6d730a85f",
   "metadata": {},
   "outputs": [
    {
     "name": "stdout",
     "output_type": "stream",
     "text": [
      "Solve\n",
      " Number of time nodes = 101\n",
      " Number of demand nodes = 201\n",
      " Number of paths = 778\n",
      "Time solving model 0.07088613510131836\n",
      "objective = 1030.42570332043\n",
      "time to update model = 0.024403095245361328\n",
      "Solve\n",
      " Number of time nodes = 68\n",
      " Number of demand nodes = 118\n",
      " Number of paths = 778\n",
      "Time solving model 0.030848979949951172\n",
      "objective = 1043.3666761716208\n",
      "time to update model = 0.014347076416015625\n",
      "Solve\n",
      " Number of time nodes = 69\n",
      " Number of demand nodes = 116\n",
      " Number of paths = 778\n",
      "Time solving model 0.031935930252075195\n",
      "objective = 1043.3666761716208\n",
      "Solve\n",
      " Number of time nodes = 69\n",
      " Number of demand nodes = 113\n",
      " Number of paths = 778\n",
      "Time solving model 0.03399300575256348\n",
      "objective = 1043.3666761716208\n",
      "Solve\n",
      " Number of time nodes = 71\n",
      " Number of demand nodes = 114\n",
      " Number of paths = 778\n",
      "Time solving model 0.03251481056213379\n",
      "objective = 1043.3666761716208\n",
      "Solve\n",
      " Number of time nodes = 69\n",
      " Number of demand nodes = 115\n",
      " Number of paths = 778\n",
      "Time solving model 0.03189396858215332\n",
      "objective = 1043.3666761716208\n",
      "Solve\n",
      " Number of time nodes = 70\n",
      " Number of demand nodes = 119\n",
      " Number of paths = 778\n",
      "Time solving model 0.030883073806762695\n",
      "objective = 1043.3666761716208\n",
      "Solve\n",
      " Number of time nodes = 69\n",
      " Number of demand nodes = 118\n",
      " Number of paths = 778\n",
      "Time solving model 0.032521963119506836\n",
      "objective = 1043.3666761716208\n",
      "Solve\n",
      " Number of time nodes = 70\n",
      " Number of demand nodes = 115\n",
      " Number of paths = 778\n",
      "Time solving model 0.031462907791137695\n",
      "objective = 1043.3666761716208\n",
      "Solve\n",
      " Number of time nodes = 69\n",
      " Number of demand nodes = 117\n",
      " Number of paths = 778\n",
      "Time solving model 0.03231310844421387\n",
      "objective = 1043.3666761716208\n",
      "variables get rest \n",
      "Solve\n",
      " Number of time nodes = 70\n",
      " Number of demand nodes = 115\n",
      " Number of paths = 778\n",
      "Time solving model 0.032559871673583984\n",
      "objective = 1043.3666761716208\n",
      "Total LP time 0.3918137550354004\n",
      "Total time used 0.688615083694458\n",
      "unchanged = 10\n",
      "Set parameter OutputFlag to value 1\n",
      "Set parameter OutputFlag to value 1\n",
      "Gurobi Optimizer version 12.0.0 build v12.0.0rc1 (mac64[arm] - Darwin 23.6.0 23G80)\n",
      "\n",
      "CPU model: Apple M3\n",
      "Thread count: 8 physical cores, 8 logical processors, using up to 8 threads\n",
      "\n",
      "Optimize a model with 12011 rows, 10646 columns and 63344 nonzeros\n",
      "Model fingerprint: 0x709b3d8b\n",
      "Variable types: 8095 continuous, 2551 integer (2550 binary)\n",
      "Coefficient statistics:\n",
      "  Matrix range     [1e+00, 3e+02]\n",
      "  Objective range  [4e+00, 8e+01]\n",
      "  Bounds range     [1e+00, 2e+02]\n",
      "  RHS range        [1e+00, 2e+02]\n",
      "Using branch priorities.\n",
      "Presolve removed 10418 rows and 7584 columns\n",
      "Presolve time: 0.05s\n",
      "Presolved: 1593 rows, 3062 columns, 12782 nonzeros\n",
      "Variable types: 2273 continuous, 789 integer (788 binary)\n",
      "Found heuristic solution: objective 1904.3000059\n",
      "Found heuristic solution: objective 1707.8000050\n",
      "\n",
      "Root relaxation: objective 1.043367e+03, 743 iterations, 0.00 seconds (0.01 work units)\n",
      "\n",
      "    Nodes    |    Current Node    |     Objective Bounds      |     Work\n",
      " Expl Unexpl |  Obj  Depth IntInf | Incumbent    BestBd   Gap | It/Node Time\n",
      "\n",
      "     0     0 1043.36668    0   16 1707.80000 1043.36668  38.9%     -    0s\n",
      "H    0     0                    1070.8000088 1043.36668  2.56%     -    0s\n",
      "H    0     0                    1057.2000093 1043.36668  1.31%     -    0s\n",
      "H    0     0                    1044.0000086 1043.36668  0.06%     -    0s\n",
      "\n",
      "Cutting planes:\n",
      "  Gomory: 1\n",
      "  Clique: 1\n",
      "  MIR: 2\n",
      "  Flow cover: 1\n",
      "  Zero half: 3\n",
      "  Relax-and-lift: 2\n",
      "\n",
      "Explored 1 nodes (743 simplex iterations) in 0.08 seconds (0.14 work units)\n",
      "Thread count was 8 (of 8 available processors)\n",
      "\n",
      "Solution count 5: 1044 1057.2 1070.8 ... 1904.3\n",
      "\n",
      "Optimal solution found (tolerance 1.00e-04)\n",
      "Best objective 1.044000008583e+03, best bound 1.044000008583e+03, gap 0.0000%\n",
      "\n",
      "User-callback calls 859, time in user-callback 0.00 sec\n"
     ]
    }
   ],
   "source": [
    "LA_discretization_algorithm!()"
   ]
  },
  {
   "cell_type": "code",
   "execution_count": null,
   "id": "15f01fdd-f33f-4ac4-9556-b68058c3c007",
   "metadata": {},
   "outputs": [],
   "source": []
  },
  {
   "cell_type": "code",
   "execution_count": 73,
   "id": "0f28a99c-0dcf-4a6e-b851-5ba2013aac70",
   "metadata": {},
   "outputs": [
    {
     "data": {
      "text/plain": [
       "51"
      ]
     },
     "execution_count": 73,
     "metadata": {},
     "output_type": "execute_result"
    }
   ],
   "source": [
    "num_locations"
   ]
  },
  {
   "cell_type": "code",
   "execution_count": null,
   "id": "79518b21-09c9-4814-a42b-a8f86d388eea",
   "metadata": {},
   "outputs": [],
   "source": []
  },
  {
   "cell_type": "code",
   "execution_count": null,
   "id": "fd58cb27-ea0b-4de5-bf74-61a79e6d256b",
   "metadata": {},
   "outputs": [],
   "source": []
  }
 ],
 "metadata": {
  "kernelspec": {
   "display_name": "Julia 1.11.1",
   "language": "julia",
   "name": "julia-1.11"
  },
  "language_info": {
   "file_extension": ".jl",
   "mimetype": "application/julia",
   "name": "julia",
   "version": "1.11.1"
  }
 },
 "nbformat": 4,
 "nbformat_minor": 5
}
